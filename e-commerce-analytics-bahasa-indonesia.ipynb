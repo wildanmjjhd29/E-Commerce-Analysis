{
 "cells": [
  {
   "cell_type": "markdown",
   "id": "686f62d5",
   "metadata": {
    "papermill": {
     "duration": 0.020824,
     "end_time": "2023-12-06T14:17:19.539735",
     "exception": false,
     "start_time": "2023-12-06T14:17:19.518911",
     "status": "completed"
    },
    "tags": []
   },
   "source": [
    "# Proyek Analisis Data: E-Comerce Public"
   ]
  },
  {
   "cell_type": "markdown",
   "id": "91636230",
   "metadata": {
    "papermill": {
     "duration": 0.020192,
     "end_time": "2023-12-06T14:17:19.580735",
     "exception": false,
     "start_time": "2023-12-06T14:17:19.560543",
     "status": "completed"
    },
    "tags": []
   },
   "source": [
    "# Menentukan Pertanyaan Bisnis"
   ]
  },
  {
   "cell_type": "markdown",
   "id": "2a844fc4",
   "metadata": {
    "papermill": {
     "duration": 0.020372,
     "end_time": "2023-12-06T14:17:19.622518",
     "exception": false,
     "start_time": "2023-12-06T14:17:19.602146",
     "status": "completed"
    },
    "tags": []
   },
   "source": [
    "- **Identifikasi 5 kategori produk dengan penjualan tertinggi dan 5 kategori produk dengan penjualan terendah. Selanjutnya, jelaskan bagaimana tren penjualan untuk 5 kategori teratas produk tersebut dalam beberapa tahun terakhir, apakah menunjukkan peningkatan, penurunan, atau stabil dalam jumlah penjualan?**\n",
    "\n",
    "\n",
    "- **Mengidentifikasi Kategori produk mana saja yang paling tinggi tingkat pembatalan oleh pembeli**\n",
    "\n",
    "- **Mengidentifikasi Kota dengan custumer yang melakukan order paling banyak**\n",
    "\n",
    "-  **Mengidentifikasi Kota dengan jumlah seller paling banyak**"
   ]
  },
  {
   "cell_type": "markdown",
   "id": "f2f377a3",
   "metadata": {
    "papermill": {
     "duration": 0.020208,
     "end_time": "2023-12-06T14:17:19.663144",
     "exception": false,
     "start_time": "2023-12-06T14:17:19.642936",
     "status": "completed"
    },
    "tags": []
   },
   "source": [
    "## Menyiapkan semua library yang dibutuhkan"
   ]
  },
  {
   "cell_type": "code",
   "execution_count": 1,
   "id": "1ae33eaa",
   "metadata": {
    "execution": {
     "iopub.execute_input": "2023-12-06T14:17:19.706331Z",
     "iopub.status.busy": "2023-12-06T14:17:19.705829Z",
     "iopub.status.idle": "2023-12-06T14:17:22.063288Z",
     "shell.execute_reply": "2023-12-06T14:17:22.061906Z"
    },
    "papermill": {
     "duration": 2.383817,
     "end_time": "2023-12-06T14:17:22.067572",
     "exception": false,
     "start_time": "2023-12-06T14:17:19.683755",
     "status": "completed"
    },
    "tags": []
   },
   "outputs": [],
   "source": [
    "import pandas as pd\n",
    "import numpy as np\n",
    "import matplotlib.pyplot as plt\n",
    "import seaborn as sns"
   ]
  },
  {
   "cell_type": "markdown",
   "id": "b634fd6f",
   "metadata": {
    "papermill": {
     "duration": 0.111319,
     "end_time": "2023-12-06T14:17:22.209059",
     "exception": false,
     "start_time": "2023-12-06T14:17:22.097740",
     "status": "completed"
    },
    "tags": []
   },
   "source": [
    "# Data Wrangling"
   ]
  },
  {
   "cell_type": "markdown",
   "id": "1f330ecc",
   "metadata": {
    "papermill": {
     "duration": 0.021678,
     "end_time": "2023-12-06T14:17:22.252114",
     "exception": false,
     "start_time": "2023-12-06T14:17:22.230436",
     "status": "completed"
    },
    "tags": []
   },
   "source": [
    "## Gathering Data"
   ]
  },
  {
   "cell_type": "code",
   "execution_count": 2,
   "id": "f0ef0289",
   "metadata": {
    "execution": {
     "iopub.execute_input": "2023-12-06T14:17:22.300279Z",
     "iopub.status.busy": "2023-12-06T14:17:22.299580Z",
     "iopub.status.idle": "2023-12-06T14:17:24.345335Z",
     "shell.execute_reply": "2023-12-06T14:17:24.343855Z"
    },
    "papermill": {
     "duration": 2.074988,
     "end_time": "2023-12-06T14:17:24.348293",
     "exception": false,
     "start_time": "2023-12-06T14:17:22.273305",
     "status": "completed"
    },
    "tags": []
   },
   "outputs": [],
   "source": [
    "df_produk = pd.read_csv('/kaggle/input/brazilian-ecommerce/olist_products_dataset.csv')\n",
    "df_order_item = pd.read_csv('/kaggle/input/brazilian-ecommerce/olist_order_items_dataset.csv')\n",
    "df_kategori = pd.read_csv('/kaggle/input/brazilian-ecommerce/product_category_name_translation.csv')\n",
    "df_orders = pd.read_csv('/kaggle/input/brazilian-ecommerce/olist_orders_dataset.csv')\n",
    "df_customer = pd.read_csv('/kaggle/input/brazilian-ecommerce/olist_customers_dataset.csv')\n",
    "df_seller = pd.read_csv('/kaggle/input/brazilian-ecommerce/olist_sellers_dataset.csv')"
   ]
  },
  {
   "cell_type": "code",
   "execution_count": 3,
   "id": "fed9b3f1",
   "metadata": {
    "execution": {
     "iopub.execute_input": "2023-12-06T14:17:24.393994Z",
     "iopub.status.busy": "2023-12-06T14:17:24.392657Z",
     "iopub.status.idle": "2023-12-06T14:17:24.426184Z",
     "shell.execute_reply": "2023-12-06T14:17:24.424932Z"
    },
    "papermill": {
     "duration": 0.05897,
     "end_time": "2023-12-06T14:17:24.428931",
     "exception": false,
     "start_time": "2023-12-06T14:17:24.369961",
     "status": "completed"
    },
    "tags": []
   },
   "outputs": [
    {
     "data": {
      "text/html": [
       "<div>\n",
       "<style scoped>\n",
       "    .dataframe tbody tr th:only-of-type {\n",
       "        vertical-align: middle;\n",
       "    }\n",
       "\n",
       "    .dataframe tbody tr th {\n",
       "        vertical-align: top;\n",
       "    }\n",
       "\n",
       "    .dataframe thead th {\n",
       "        text-align: right;\n",
       "    }\n",
       "</style>\n",
       "<table border=\"1\" class=\"dataframe\">\n",
       "  <thead>\n",
       "    <tr style=\"text-align: right;\">\n",
       "      <th></th>\n",
       "      <th>product_id</th>\n",
       "      <th>product_category_name</th>\n",
       "      <th>product_name_lenght</th>\n",
       "      <th>product_description_lenght</th>\n",
       "      <th>product_photos_qty</th>\n",
       "      <th>product_weight_g</th>\n",
       "      <th>product_length_cm</th>\n",
       "      <th>product_height_cm</th>\n",
       "      <th>product_width_cm</th>\n",
       "    </tr>\n",
       "  </thead>\n",
       "  <tbody>\n",
       "    <tr>\n",
       "      <th>0</th>\n",
       "      <td>1e9e8ef04dbcff4541ed26657ea517e5</td>\n",
       "      <td>perfumaria</td>\n",
       "      <td>40.0</td>\n",
       "      <td>287.0</td>\n",
       "      <td>1.0</td>\n",
       "      <td>225.0</td>\n",
       "      <td>16.0</td>\n",
       "      <td>10.0</td>\n",
       "      <td>14.0</td>\n",
       "    </tr>\n",
       "    <tr>\n",
       "      <th>1</th>\n",
       "      <td>3aa071139cb16b67ca9e5dea641aaa2f</td>\n",
       "      <td>artes</td>\n",
       "      <td>44.0</td>\n",
       "      <td>276.0</td>\n",
       "      <td>1.0</td>\n",
       "      <td>1000.0</td>\n",
       "      <td>30.0</td>\n",
       "      <td>18.0</td>\n",
       "      <td>20.0</td>\n",
       "    </tr>\n",
       "    <tr>\n",
       "      <th>2</th>\n",
       "      <td>96bd76ec8810374ed1b65e291975717f</td>\n",
       "      <td>esporte_lazer</td>\n",
       "      <td>46.0</td>\n",
       "      <td>250.0</td>\n",
       "      <td>1.0</td>\n",
       "      <td>154.0</td>\n",
       "      <td>18.0</td>\n",
       "      <td>9.0</td>\n",
       "      <td>15.0</td>\n",
       "    </tr>\n",
       "    <tr>\n",
       "      <th>3</th>\n",
       "      <td>cef67bcfe19066a932b7673e239eb23d</td>\n",
       "      <td>bebes</td>\n",
       "      <td>27.0</td>\n",
       "      <td>261.0</td>\n",
       "      <td>1.0</td>\n",
       "      <td>371.0</td>\n",
       "      <td>26.0</td>\n",
       "      <td>4.0</td>\n",
       "      <td>26.0</td>\n",
       "    </tr>\n",
       "    <tr>\n",
       "      <th>4</th>\n",
       "      <td>9dc1a7de274444849c219cff195d0b71</td>\n",
       "      <td>utilidades_domesticas</td>\n",
       "      <td>37.0</td>\n",
       "      <td>402.0</td>\n",
       "      <td>4.0</td>\n",
       "      <td>625.0</td>\n",
       "      <td>20.0</td>\n",
       "      <td>17.0</td>\n",
       "      <td>13.0</td>\n",
       "    </tr>\n",
       "  </tbody>\n",
       "</table>\n",
       "</div>"
      ],
      "text/plain": [
       "                         product_id  product_category_name  \\\n",
       "0  1e9e8ef04dbcff4541ed26657ea517e5             perfumaria   \n",
       "1  3aa071139cb16b67ca9e5dea641aaa2f                  artes   \n",
       "2  96bd76ec8810374ed1b65e291975717f          esporte_lazer   \n",
       "3  cef67bcfe19066a932b7673e239eb23d                  bebes   \n",
       "4  9dc1a7de274444849c219cff195d0b71  utilidades_domesticas   \n",
       "\n",
       "   product_name_lenght  product_description_lenght  product_photos_qty  \\\n",
       "0                 40.0                       287.0                 1.0   \n",
       "1                 44.0                       276.0                 1.0   \n",
       "2                 46.0                       250.0                 1.0   \n",
       "3                 27.0                       261.0                 1.0   \n",
       "4                 37.0                       402.0                 4.0   \n",
       "\n",
       "   product_weight_g  product_length_cm  product_height_cm  product_width_cm  \n",
       "0             225.0               16.0               10.0              14.0  \n",
       "1            1000.0               30.0               18.0              20.0  \n",
       "2             154.0               18.0                9.0              15.0  \n",
       "3             371.0               26.0                4.0              26.0  \n",
       "4             625.0               20.0               17.0              13.0  "
      ]
     },
     "execution_count": 3,
     "metadata": {},
     "output_type": "execute_result"
    }
   ],
   "source": [
    "df_produk.head()"
   ]
  },
  {
   "cell_type": "code",
   "execution_count": 4,
   "id": "0a23e96c",
   "metadata": {
    "execution": {
     "iopub.execute_input": "2023-12-06T14:17:24.474836Z",
     "iopub.status.busy": "2023-12-06T14:17:24.473845Z",
     "iopub.status.idle": "2023-12-06T14:17:24.489749Z",
     "shell.execute_reply": "2023-12-06T14:17:24.488448Z"
    },
    "papermill": {
     "duration": 0.042129,
     "end_time": "2023-12-06T14:17:24.492580",
     "exception": false,
     "start_time": "2023-12-06T14:17:24.450451",
     "status": "completed"
    },
    "tags": []
   },
   "outputs": [
    {
     "data": {
      "text/html": [
       "<div>\n",
       "<style scoped>\n",
       "    .dataframe tbody tr th:only-of-type {\n",
       "        vertical-align: middle;\n",
       "    }\n",
       "\n",
       "    .dataframe tbody tr th {\n",
       "        vertical-align: top;\n",
       "    }\n",
       "\n",
       "    .dataframe thead th {\n",
       "        text-align: right;\n",
       "    }\n",
       "</style>\n",
       "<table border=\"1\" class=\"dataframe\">\n",
       "  <thead>\n",
       "    <tr style=\"text-align: right;\">\n",
       "      <th></th>\n",
       "      <th>order_id</th>\n",
       "      <th>order_item_id</th>\n",
       "      <th>product_id</th>\n",
       "      <th>seller_id</th>\n",
       "      <th>shipping_limit_date</th>\n",
       "      <th>price</th>\n",
       "      <th>freight_value</th>\n",
       "    </tr>\n",
       "  </thead>\n",
       "  <tbody>\n",
       "    <tr>\n",
       "      <th>0</th>\n",
       "      <td>00010242fe8c5a6d1ba2dd792cb16214</td>\n",
       "      <td>1</td>\n",
       "      <td>4244733e06e7ecb4970a6e2683c13e61</td>\n",
       "      <td>48436dade18ac8b2bce089ec2a041202</td>\n",
       "      <td>2017-09-19 09:45:35</td>\n",
       "      <td>58.90</td>\n",
       "      <td>13.29</td>\n",
       "    </tr>\n",
       "    <tr>\n",
       "      <th>1</th>\n",
       "      <td>00018f77f2f0320c557190d7a144bdd3</td>\n",
       "      <td>1</td>\n",
       "      <td>e5f2d52b802189ee658865ca93d83a8f</td>\n",
       "      <td>dd7ddc04e1b6c2c614352b383efe2d36</td>\n",
       "      <td>2017-05-03 11:05:13</td>\n",
       "      <td>239.90</td>\n",
       "      <td>19.93</td>\n",
       "    </tr>\n",
       "    <tr>\n",
       "      <th>2</th>\n",
       "      <td>000229ec398224ef6ca0657da4fc703e</td>\n",
       "      <td>1</td>\n",
       "      <td>c777355d18b72b67abbeef9df44fd0fd</td>\n",
       "      <td>5b51032eddd242adc84c38acab88f23d</td>\n",
       "      <td>2018-01-18 14:48:30</td>\n",
       "      <td>199.00</td>\n",
       "      <td>17.87</td>\n",
       "    </tr>\n",
       "    <tr>\n",
       "      <th>3</th>\n",
       "      <td>00024acbcdf0a6daa1e931b038114c75</td>\n",
       "      <td>1</td>\n",
       "      <td>7634da152a4610f1595efa32f14722fc</td>\n",
       "      <td>9d7a1d34a5052409006425275ba1c2b4</td>\n",
       "      <td>2018-08-15 10:10:18</td>\n",
       "      <td>12.99</td>\n",
       "      <td>12.79</td>\n",
       "    </tr>\n",
       "    <tr>\n",
       "      <th>4</th>\n",
       "      <td>00042b26cf59d7ce69dfabb4e55b4fd9</td>\n",
       "      <td>1</td>\n",
       "      <td>ac6c3623068f30de03045865e4e10089</td>\n",
       "      <td>df560393f3a51e74553ab94004ba5c87</td>\n",
       "      <td>2017-02-13 13:57:51</td>\n",
       "      <td>199.90</td>\n",
       "      <td>18.14</td>\n",
       "    </tr>\n",
       "  </tbody>\n",
       "</table>\n",
       "</div>"
      ],
      "text/plain": [
       "                           order_id  order_item_id  \\\n",
       "0  00010242fe8c5a6d1ba2dd792cb16214              1   \n",
       "1  00018f77f2f0320c557190d7a144bdd3              1   \n",
       "2  000229ec398224ef6ca0657da4fc703e              1   \n",
       "3  00024acbcdf0a6daa1e931b038114c75              1   \n",
       "4  00042b26cf59d7ce69dfabb4e55b4fd9              1   \n",
       "\n",
       "                         product_id                         seller_id  \\\n",
       "0  4244733e06e7ecb4970a6e2683c13e61  48436dade18ac8b2bce089ec2a041202   \n",
       "1  e5f2d52b802189ee658865ca93d83a8f  dd7ddc04e1b6c2c614352b383efe2d36   \n",
       "2  c777355d18b72b67abbeef9df44fd0fd  5b51032eddd242adc84c38acab88f23d   \n",
       "3  7634da152a4610f1595efa32f14722fc  9d7a1d34a5052409006425275ba1c2b4   \n",
       "4  ac6c3623068f30de03045865e4e10089  df560393f3a51e74553ab94004ba5c87   \n",
       "\n",
       "   shipping_limit_date   price  freight_value  \n",
       "0  2017-09-19 09:45:35   58.90          13.29  \n",
       "1  2017-05-03 11:05:13  239.90          19.93  \n",
       "2  2018-01-18 14:48:30  199.00          17.87  \n",
       "3  2018-08-15 10:10:18   12.99          12.79  \n",
       "4  2017-02-13 13:57:51  199.90          18.14  "
      ]
     },
     "execution_count": 4,
     "metadata": {},
     "output_type": "execute_result"
    }
   ],
   "source": [
    "df_order_item.head()"
   ]
  },
  {
   "cell_type": "code",
   "execution_count": 5,
   "id": "53643ff6",
   "metadata": {
    "execution": {
     "iopub.execute_input": "2023-12-06T14:17:24.539532Z",
     "iopub.status.busy": "2023-12-06T14:17:24.538684Z",
     "iopub.status.idle": "2023-12-06T14:17:24.551332Z",
     "shell.execute_reply": "2023-12-06T14:17:24.549913Z"
    },
    "papermill": {
     "duration": 0.038772,
     "end_time": "2023-12-06T14:17:24.553820",
     "exception": false,
     "start_time": "2023-12-06T14:17:24.515048",
     "status": "completed"
    },
    "tags": []
   },
   "outputs": [
    {
     "data": {
      "text/html": [
       "<div>\n",
       "<style scoped>\n",
       "    .dataframe tbody tr th:only-of-type {\n",
       "        vertical-align: middle;\n",
       "    }\n",
       "\n",
       "    .dataframe tbody tr th {\n",
       "        vertical-align: top;\n",
       "    }\n",
       "\n",
       "    .dataframe thead th {\n",
       "        text-align: right;\n",
       "    }\n",
       "</style>\n",
       "<table border=\"1\" class=\"dataframe\">\n",
       "  <thead>\n",
       "    <tr style=\"text-align: right;\">\n",
       "      <th></th>\n",
       "      <th>product_category_name</th>\n",
       "      <th>product_category_name_english</th>\n",
       "    </tr>\n",
       "  </thead>\n",
       "  <tbody>\n",
       "    <tr>\n",
       "      <th>0</th>\n",
       "      <td>beleza_saude</td>\n",
       "      <td>health_beauty</td>\n",
       "    </tr>\n",
       "    <tr>\n",
       "      <th>1</th>\n",
       "      <td>informatica_acessorios</td>\n",
       "      <td>computers_accessories</td>\n",
       "    </tr>\n",
       "    <tr>\n",
       "      <th>2</th>\n",
       "      <td>automotivo</td>\n",
       "      <td>auto</td>\n",
       "    </tr>\n",
       "    <tr>\n",
       "      <th>3</th>\n",
       "      <td>cama_mesa_banho</td>\n",
       "      <td>bed_bath_table</td>\n",
       "    </tr>\n",
       "    <tr>\n",
       "      <th>4</th>\n",
       "      <td>moveis_decoracao</td>\n",
       "      <td>furniture_decor</td>\n",
       "    </tr>\n",
       "  </tbody>\n",
       "</table>\n",
       "</div>"
      ],
      "text/plain": [
       "    product_category_name product_category_name_english\n",
       "0            beleza_saude                 health_beauty\n",
       "1  informatica_acessorios         computers_accessories\n",
       "2              automotivo                          auto\n",
       "3         cama_mesa_banho                bed_bath_table\n",
       "4        moveis_decoracao               furniture_decor"
      ]
     },
     "execution_count": 5,
     "metadata": {},
     "output_type": "execute_result"
    }
   ],
   "source": [
    "df_kategori.head()"
   ]
  },
  {
   "cell_type": "code",
   "execution_count": 6,
   "id": "636441f5",
   "metadata": {
    "execution": {
     "iopub.execute_input": "2023-12-06T14:17:24.601823Z",
     "iopub.status.busy": "2023-12-06T14:17:24.601341Z",
     "iopub.status.idle": "2023-12-06T14:17:24.616477Z",
     "shell.execute_reply": "2023-12-06T14:17:24.615306Z"
    },
    "papermill": {
     "duration": 0.042092,
     "end_time": "2023-12-06T14:17:24.618768",
     "exception": false,
     "start_time": "2023-12-06T14:17:24.576676",
     "status": "completed"
    },
    "tags": []
   },
   "outputs": [
    {
     "data": {
      "text/html": [
       "<div>\n",
       "<style scoped>\n",
       "    .dataframe tbody tr th:only-of-type {\n",
       "        vertical-align: middle;\n",
       "    }\n",
       "\n",
       "    .dataframe tbody tr th {\n",
       "        vertical-align: top;\n",
       "    }\n",
       "\n",
       "    .dataframe thead th {\n",
       "        text-align: right;\n",
       "    }\n",
       "</style>\n",
       "<table border=\"1\" class=\"dataframe\">\n",
       "  <thead>\n",
       "    <tr style=\"text-align: right;\">\n",
       "      <th></th>\n",
       "      <th>order_id</th>\n",
       "      <th>customer_id</th>\n",
       "      <th>order_status</th>\n",
       "      <th>order_purchase_timestamp</th>\n",
       "      <th>order_approved_at</th>\n",
       "      <th>order_delivered_carrier_date</th>\n",
       "      <th>order_delivered_customer_date</th>\n",
       "      <th>order_estimated_delivery_date</th>\n",
       "    </tr>\n",
       "  </thead>\n",
       "  <tbody>\n",
       "    <tr>\n",
       "      <th>0</th>\n",
       "      <td>e481f51cbdc54678b7cc49136f2d6af7</td>\n",
       "      <td>9ef432eb6251297304e76186b10a928d</td>\n",
       "      <td>delivered</td>\n",
       "      <td>2017-10-02 10:56:33</td>\n",
       "      <td>2017-10-02 11:07:15</td>\n",
       "      <td>2017-10-04 19:55:00</td>\n",
       "      <td>2017-10-10 21:25:13</td>\n",
       "      <td>2017-10-18 00:00:00</td>\n",
       "    </tr>\n",
       "    <tr>\n",
       "      <th>1</th>\n",
       "      <td>53cdb2fc8bc7dce0b6741e2150273451</td>\n",
       "      <td>b0830fb4747a6c6d20dea0b8c802d7ef</td>\n",
       "      <td>delivered</td>\n",
       "      <td>2018-07-24 20:41:37</td>\n",
       "      <td>2018-07-26 03:24:27</td>\n",
       "      <td>2018-07-26 14:31:00</td>\n",
       "      <td>2018-08-07 15:27:45</td>\n",
       "      <td>2018-08-13 00:00:00</td>\n",
       "    </tr>\n",
       "    <tr>\n",
       "      <th>2</th>\n",
       "      <td>47770eb9100c2d0c44946d9cf07ec65d</td>\n",
       "      <td>41ce2a54c0b03bf3443c3d931a367089</td>\n",
       "      <td>delivered</td>\n",
       "      <td>2018-08-08 08:38:49</td>\n",
       "      <td>2018-08-08 08:55:23</td>\n",
       "      <td>2018-08-08 13:50:00</td>\n",
       "      <td>2018-08-17 18:06:29</td>\n",
       "      <td>2018-09-04 00:00:00</td>\n",
       "    </tr>\n",
       "    <tr>\n",
       "      <th>3</th>\n",
       "      <td>949d5b44dbf5de918fe9c16f97b45f8a</td>\n",
       "      <td>f88197465ea7920adcdbec7375364d82</td>\n",
       "      <td>delivered</td>\n",
       "      <td>2017-11-18 19:28:06</td>\n",
       "      <td>2017-11-18 19:45:59</td>\n",
       "      <td>2017-11-22 13:39:59</td>\n",
       "      <td>2017-12-02 00:28:42</td>\n",
       "      <td>2017-12-15 00:00:00</td>\n",
       "    </tr>\n",
       "    <tr>\n",
       "      <th>4</th>\n",
       "      <td>ad21c59c0840e6cb83a9ceb5573f8159</td>\n",
       "      <td>8ab97904e6daea8866dbdbc4fb7aad2c</td>\n",
       "      <td>delivered</td>\n",
       "      <td>2018-02-13 21:18:39</td>\n",
       "      <td>2018-02-13 22:20:29</td>\n",
       "      <td>2018-02-14 19:46:34</td>\n",
       "      <td>2018-02-16 18:17:02</td>\n",
       "      <td>2018-02-26 00:00:00</td>\n",
       "    </tr>\n",
       "  </tbody>\n",
       "</table>\n",
       "</div>"
      ],
      "text/plain": [
       "                           order_id                       customer_id  \\\n",
       "0  e481f51cbdc54678b7cc49136f2d6af7  9ef432eb6251297304e76186b10a928d   \n",
       "1  53cdb2fc8bc7dce0b6741e2150273451  b0830fb4747a6c6d20dea0b8c802d7ef   \n",
       "2  47770eb9100c2d0c44946d9cf07ec65d  41ce2a54c0b03bf3443c3d931a367089   \n",
       "3  949d5b44dbf5de918fe9c16f97b45f8a  f88197465ea7920adcdbec7375364d82   \n",
       "4  ad21c59c0840e6cb83a9ceb5573f8159  8ab97904e6daea8866dbdbc4fb7aad2c   \n",
       "\n",
       "  order_status order_purchase_timestamp    order_approved_at  \\\n",
       "0    delivered      2017-10-02 10:56:33  2017-10-02 11:07:15   \n",
       "1    delivered      2018-07-24 20:41:37  2018-07-26 03:24:27   \n",
       "2    delivered      2018-08-08 08:38:49  2018-08-08 08:55:23   \n",
       "3    delivered      2017-11-18 19:28:06  2017-11-18 19:45:59   \n",
       "4    delivered      2018-02-13 21:18:39  2018-02-13 22:20:29   \n",
       "\n",
       "  order_delivered_carrier_date order_delivered_customer_date  \\\n",
       "0          2017-10-04 19:55:00           2017-10-10 21:25:13   \n",
       "1          2018-07-26 14:31:00           2018-08-07 15:27:45   \n",
       "2          2018-08-08 13:50:00           2018-08-17 18:06:29   \n",
       "3          2017-11-22 13:39:59           2017-12-02 00:28:42   \n",
       "4          2018-02-14 19:46:34           2018-02-16 18:17:02   \n",
       "\n",
       "  order_estimated_delivery_date  \n",
       "0           2017-10-18 00:00:00  \n",
       "1           2018-08-13 00:00:00  \n",
       "2           2018-09-04 00:00:00  \n",
       "3           2017-12-15 00:00:00  \n",
       "4           2018-02-26 00:00:00  "
      ]
     },
     "execution_count": 6,
     "metadata": {},
     "output_type": "execute_result"
    }
   ],
   "source": [
    "df_orders.head()"
   ]
  },
  {
   "cell_type": "code",
   "execution_count": 7,
   "id": "38615084",
   "metadata": {
    "execution": {
     "iopub.execute_input": "2023-12-06T14:17:24.666042Z",
     "iopub.status.busy": "2023-12-06T14:17:24.665559Z",
     "iopub.status.idle": "2023-12-06T14:17:24.677782Z",
     "shell.execute_reply": "2023-12-06T14:17:24.676841Z"
    },
    "papermill": {
     "duration": 0.039478,
     "end_time": "2023-12-06T14:17:24.680521",
     "exception": false,
     "start_time": "2023-12-06T14:17:24.641043",
     "status": "completed"
    },
    "tags": []
   },
   "outputs": [
    {
     "data": {
      "text/html": [
       "<div>\n",
       "<style scoped>\n",
       "    .dataframe tbody tr th:only-of-type {\n",
       "        vertical-align: middle;\n",
       "    }\n",
       "\n",
       "    .dataframe tbody tr th {\n",
       "        vertical-align: top;\n",
       "    }\n",
       "\n",
       "    .dataframe thead th {\n",
       "        text-align: right;\n",
       "    }\n",
       "</style>\n",
       "<table border=\"1\" class=\"dataframe\">\n",
       "  <thead>\n",
       "    <tr style=\"text-align: right;\">\n",
       "      <th></th>\n",
       "      <th>customer_id</th>\n",
       "      <th>customer_unique_id</th>\n",
       "      <th>customer_zip_code_prefix</th>\n",
       "      <th>customer_city</th>\n",
       "      <th>customer_state</th>\n",
       "    </tr>\n",
       "  </thead>\n",
       "  <tbody>\n",
       "    <tr>\n",
       "      <th>0</th>\n",
       "      <td>06b8999e2fba1a1fbc88172c00ba8bc7</td>\n",
       "      <td>861eff4711a542e4b93843c6dd7febb0</td>\n",
       "      <td>14409</td>\n",
       "      <td>franca</td>\n",
       "      <td>SP</td>\n",
       "    </tr>\n",
       "    <tr>\n",
       "      <th>1</th>\n",
       "      <td>18955e83d337fd6b2def6b18a428ac77</td>\n",
       "      <td>290c77bc529b7ac935b93aa66c333dc3</td>\n",
       "      <td>9790</td>\n",
       "      <td>sao bernardo do campo</td>\n",
       "      <td>SP</td>\n",
       "    </tr>\n",
       "    <tr>\n",
       "      <th>2</th>\n",
       "      <td>4e7b3e00288586ebd08712fdd0374a03</td>\n",
       "      <td>060e732b5b29e8181a18229c7b0b2b5e</td>\n",
       "      <td>1151</td>\n",
       "      <td>sao paulo</td>\n",
       "      <td>SP</td>\n",
       "    </tr>\n",
       "    <tr>\n",
       "      <th>3</th>\n",
       "      <td>b2b6027bc5c5109e529d4dc6358b12c3</td>\n",
       "      <td>259dac757896d24d7702b9acbbff3f3c</td>\n",
       "      <td>8775</td>\n",
       "      <td>mogi das cruzes</td>\n",
       "      <td>SP</td>\n",
       "    </tr>\n",
       "    <tr>\n",
       "      <th>4</th>\n",
       "      <td>4f2d8ab171c80ec8364f7c12e35b23ad</td>\n",
       "      <td>345ecd01c38d18a9036ed96c73b8d066</td>\n",
       "      <td>13056</td>\n",
       "      <td>campinas</td>\n",
       "      <td>SP</td>\n",
       "    </tr>\n",
       "  </tbody>\n",
       "</table>\n",
       "</div>"
      ],
      "text/plain": [
       "                        customer_id                customer_unique_id  \\\n",
       "0  06b8999e2fba1a1fbc88172c00ba8bc7  861eff4711a542e4b93843c6dd7febb0   \n",
       "1  18955e83d337fd6b2def6b18a428ac77  290c77bc529b7ac935b93aa66c333dc3   \n",
       "2  4e7b3e00288586ebd08712fdd0374a03  060e732b5b29e8181a18229c7b0b2b5e   \n",
       "3  b2b6027bc5c5109e529d4dc6358b12c3  259dac757896d24d7702b9acbbff3f3c   \n",
       "4  4f2d8ab171c80ec8364f7c12e35b23ad  345ecd01c38d18a9036ed96c73b8d066   \n",
       "\n",
       "   customer_zip_code_prefix          customer_city customer_state  \n",
       "0                     14409                 franca             SP  \n",
       "1                      9790  sao bernardo do campo             SP  \n",
       "2                      1151              sao paulo             SP  \n",
       "3                      8775        mogi das cruzes             SP  \n",
       "4                     13056               campinas             SP  "
      ]
     },
     "execution_count": 7,
     "metadata": {},
     "output_type": "execute_result"
    }
   ],
   "source": [
    "df_customer.head()"
   ]
  },
  {
   "cell_type": "code",
   "execution_count": 8,
   "id": "7b006350",
   "metadata": {
    "execution": {
     "iopub.execute_input": "2023-12-06T14:17:24.729008Z",
     "iopub.status.busy": "2023-12-06T14:17:24.728535Z",
     "iopub.status.idle": "2023-12-06T14:17:24.740169Z",
     "shell.execute_reply": "2023-12-06T14:17:24.739228Z"
    },
    "papermill": {
     "duration": 0.038342,
     "end_time": "2023-12-06T14:17:24.742514",
     "exception": false,
     "start_time": "2023-12-06T14:17:24.704172",
     "status": "completed"
    },
    "tags": []
   },
   "outputs": [
    {
     "data": {
      "text/html": [
       "<div>\n",
       "<style scoped>\n",
       "    .dataframe tbody tr th:only-of-type {\n",
       "        vertical-align: middle;\n",
       "    }\n",
       "\n",
       "    .dataframe tbody tr th {\n",
       "        vertical-align: top;\n",
       "    }\n",
       "\n",
       "    .dataframe thead th {\n",
       "        text-align: right;\n",
       "    }\n",
       "</style>\n",
       "<table border=\"1\" class=\"dataframe\">\n",
       "  <thead>\n",
       "    <tr style=\"text-align: right;\">\n",
       "      <th></th>\n",
       "      <th>seller_id</th>\n",
       "      <th>seller_zip_code_prefix</th>\n",
       "      <th>seller_city</th>\n",
       "      <th>seller_state</th>\n",
       "    </tr>\n",
       "  </thead>\n",
       "  <tbody>\n",
       "    <tr>\n",
       "      <th>0</th>\n",
       "      <td>3442f8959a84dea7ee197c632cb2df15</td>\n",
       "      <td>13023</td>\n",
       "      <td>campinas</td>\n",
       "      <td>SP</td>\n",
       "    </tr>\n",
       "    <tr>\n",
       "      <th>1</th>\n",
       "      <td>d1b65fc7debc3361ea86b5f14c68d2e2</td>\n",
       "      <td>13844</td>\n",
       "      <td>mogi guacu</td>\n",
       "      <td>SP</td>\n",
       "    </tr>\n",
       "    <tr>\n",
       "      <th>2</th>\n",
       "      <td>ce3ad9de960102d0677a81f5d0bb7b2d</td>\n",
       "      <td>20031</td>\n",
       "      <td>rio de janeiro</td>\n",
       "      <td>RJ</td>\n",
       "    </tr>\n",
       "    <tr>\n",
       "      <th>3</th>\n",
       "      <td>c0f3eea2e14555b6faeea3dd58c1b1c3</td>\n",
       "      <td>4195</td>\n",
       "      <td>sao paulo</td>\n",
       "      <td>SP</td>\n",
       "    </tr>\n",
       "    <tr>\n",
       "      <th>4</th>\n",
       "      <td>51a04a8a6bdcb23deccc82b0b80742cf</td>\n",
       "      <td>12914</td>\n",
       "      <td>braganca paulista</td>\n",
       "      <td>SP</td>\n",
       "    </tr>\n",
       "  </tbody>\n",
       "</table>\n",
       "</div>"
      ],
      "text/plain": [
       "                          seller_id  seller_zip_code_prefix  \\\n",
       "0  3442f8959a84dea7ee197c632cb2df15                   13023   \n",
       "1  d1b65fc7debc3361ea86b5f14c68d2e2                   13844   \n",
       "2  ce3ad9de960102d0677a81f5d0bb7b2d                   20031   \n",
       "3  c0f3eea2e14555b6faeea3dd58c1b1c3                    4195   \n",
       "4  51a04a8a6bdcb23deccc82b0b80742cf                   12914   \n",
       "\n",
       "         seller_city seller_state  \n",
       "0           campinas           SP  \n",
       "1         mogi guacu           SP  \n",
       "2     rio de janeiro           RJ  \n",
       "3          sao paulo           SP  \n",
       "4  braganca paulista           SP  "
      ]
     },
     "execution_count": 8,
     "metadata": {},
     "output_type": "execute_result"
    }
   ],
   "source": [
    "df_seller.head()"
   ]
  },
  {
   "cell_type": "markdown",
   "id": "6147c8ef",
   "metadata": {
    "papermill": {
     "duration": 0.023157,
     "end_time": "2023-12-06T14:17:24.788509",
     "exception": false,
     "start_time": "2023-12-06T14:17:24.765352",
     "status": "completed"
    },
    "tags": []
   },
   "source": [
    "## Assessing Data"
   ]
  },
  {
   "cell_type": "markdown",
   "id": "a0065a42",
   "metadata": {
    "papermill": {
     "duration": 0.022754,
     "end_time": "2023-12-06T14:17:24.834693",
     "exception": false,
     "start_time": "2023-12-06T14:17:24.811939",
     "status": "completed"
    },
    "tags": []
   },
   "source": [
    "**Menilai Tabel `df_produk`**"
   ]
  },
  {
   "cell_type": "code",
   "execution_count": 9,
   "id": "228088a5",
   "metadata": {
    "execution": {
     "iopub.execute_input": "2023-12-06T14:17:24.883350Z",
     "iopub.status.busy": "2023-12-06T14:17:24.882830Z",
     "iopub.status.idle": "2023-12-06T14:17:24.916750Z",
     "shell.execute_reply": "2023-12-06T14:17:24.915654Z"
    },
    "papermill": {
     "duration": 0.061576,
     "end_time": "2023-12-06T14:17:24.919611",
     "exception": false,
     "start_time": "2023-12-06T14:17:24.858035",
     "status": "completed"
    },
    "tags": []
   },
   "outputs": [
    {
     "name": "stdout",
     "output_type": "stream",
     "text": [
      "<class 'pandas.core.frame.DataFrame'>\n",
      "RangeIndex: 32951 entries, 0 to 32950\n",
      "Data columns (total 9 columns):\n",
      " #   Column                      Non-Null Count  Dtype  \n",
      "---  ------                      --------------  -----  \n",
      " 0   product_id                  32951 non-null  object \n",
      " 1   product_category_name       32341 non-null  object \n",
      " 2   product_name_lenght         32341 non-null  float64\n",
      " 3   product_description_lenght  32341 non-null  float64\n",
      " 4   product_photos_qty          32341 non-null  float64\n",
      " 5   product_weight_g            32949 non-null  float64\n",
      " 6   product_length_cm           32949 non-null  float64\n",
      " 7   product_height_cm           32949 non-null  float64\n",
      " 8   product_width_cm            32949 non-null  float64\n",
      "dtypes: float64(7), object(2)\n",
      "memory usage: 2.3+ MB\n"
     ]
    }
   ],
   "source": [
    "df_produk.info()"
   ]
  },
  {
   "cell_type": "code",
   "execution_count": 10,
   "id": "a5c22a36",
   "metadata": {
    "execution": {
     "iopub.execute_input": "2023-12-06T14:17:24.972175Z",
     "iopub.status.busy": "2023-12-06T14:17:24.970868Z",
     "iopub.status.idle": "2023-12-06T14:17:24.983818Z",
     "shell.execute_reply": "2023-12-06T14:17:24.982890Z"
    },
    "papermill": {
     "duration": 0.041751,
     "end_time": "2023-12-06T14:17:24.986017",
     "exception": false,
     "start_time": "2023-12-06T14:17:24.944266",
     "status": "completed"
    },
    "tags": []
   },
   "outputs": [
    {
     "data": {
      "text/plain": [
       "product_id                      0\n",
       "product_category_name         610\n",
       "product_name_lenght           610\n",
       "product_description_lenght    610\n",
       "product_photos_qty            610\n",
       "product_weight_g                2\n",
       "product_length_cm               2\n",
       "product_height_cm               2\n",
       "product_width_cm                2\n",
       "dtype: int64"
      ]
     },
     "execution_count": 10,
     "metadata": {},
     "output_type": "execute_result"
    }
   ],
   "source": [
    "# Mengecek missing Values\n",
    "df_produk.isna().sum()"
   ]
  },
  {
   "cell_type": "code",
   "execution_count": 11,
   "id": "d4f356b6",
   "metadata": {
    "execution": {
     "iopub.execute_input": "2023-12-06T14:17:25.034674Z",
     "iopub.status.busy": "2023-12-06T14:17:25.033858Z",
     "iopub.status.idle": "2023-12-06T14:17:25.064270Z",
     "shell.execute_reply": "2023-12-06T14:17:25.062951Z"
    },
    "papermill": {
     "duration": 0.058025,
     "end_time": "2023-12-06T14:17:25.067122",
     "exception": false,
     "start_time": "2023-12-06T14:17:25.009097",
     "status": "completed"
    },
    "tags": []
   },
   "outputs": [
    {
     "name": "stdout",
     "output_type": "stream",
     "text": [
      "jumlah duplikasi data : 0\n"
     ]
    }
   ],
   "source": [
    "# Mengecek Data Duplikat\n",
    "print('jumlah duplikasi data :',df_produk.duplicated().sum())"
   ]
  },
  {
   "cell_type": "markdown",
   "id": "0b779075",
   "metadata": {
    "papermill": {
     "duration": 0.022806,
     "end_time": "2023-12-06T14:17:25.112773",
     "exception": false,
     "start_time": "2023-12-06T14:17:25.089967",
     "status": "completed"
    },
    "tags": []
   },
   "source": [
    "**Menilai Tabel `df_order_item`**"
   ]
  },
  {
   "cell_type": "code",
   "execution_count": 12,
   "id": "9207d618",
   "metadata": {
    "execution": {
     "iopub.execute_input": "2023-12-06T14:17:25.162290Z",
     "iopub.status.busy": "2023-12-06T14:17:25.161791Z",
     "iopub.status.idle": "2023-12-06T14:17:25.204146Z",
     "shell.execute_reply": "2023-12-06T14:17:25.202478Z"
    },
    "papermill": {
     "duration": 0.070641,
     "end_time": "2023-12-06T14:17:25.206989",
     "exception": false,
     "start_time": "2023-12-06T14:17:25.136348",
     "status": "completed"
    },
    "tags": []
   },
   "outputs": [
    {
     "name": "stdout",
     "output_type": "stream",
     "text": [
      "<class 'pandas.core.frame.DataFrame'>\n",
      "RangeIndex: 112650 entries, 0 to 112649\n",
      "Data columns (total 7 columns):\n",
      " #   Column               Non-Null Count   Dtype  \n",
      "---  ------               --------------   -----  \n",
      " 0   order_id             112650 non-null  object \n",
      " 1   order_item_id        112650 non-null  int64  \n",
      " 2   product_id           112650 non-null  object \n",
      " 3   seller_id            112650 non-null  object \n",
      " 4   shipping_limit_date  112650 non-null  object \n",
      " 5   price                112650 non-null  float64\n",
      " 6   freight_value        112650 non-null  float64\n",
      "dtypes: float64(2), int64(1), object(4)\n",
      "memory usage: 6.0+ MB\n"
     ]
    }
   ],
   "source": [
    "df_order_item.info()"
   ]
  },
  {
   "cell_type": "code",
   "execution_count": 13,
   "id": "6b3561e8",
   "metadata": {
    "execution": {
     "iopub.execute_input": "2023-12-06T14:17:25.257669Z",
     "iopub.status.busy": "2023-12-06T14:17:25.257124Z",
     "iopub.status.idle": "2023-12-06T14:17:25.292438Z",
     "shell.execute_reply": "2023-12-06T14:17:25.291273Z"
    },
    "papermill": {
     "duration": 0.064107,
     "end_time": "2023-12-06T14:17:25.295245",
     "exception": false,
     "start_time": "2023-12-06T14:17:25.231138",
     "status": "completed"
    },
    "tags": []
   },
   "outputs": [
    {
     "data": {
      "text/plain": [
       "order_id               0\n",
       "order_item_id          0\n",
       "product_id             0\n",
       "seller_id              0\n",
       "shipping_limit_date    0\n",
       "price                  0\n",
       "freight_value          0\n",
       "dtype: int64"
      ]
     },
     "execution_count": 13,
     "metadata": {},
     "output_type": "execute_result"
    }
   ],
   "source": [
    "# Mengecek missing Values\n",
    "df_order_item.isna().sum()"
   ]
  },
  {
   "cell_type": "code",
   "execution_count": 14,
   "id": "213e3ecc",
   "metadata": {
    "execution": {
     "iopub.execute_input": "2023-12-06T14:17:25.346001Z",
     "iopub.status.busy": "2023-12-06T14:17:25.345508Z",
     "iopub.status.idle": "2023-12-06T14:17:25.470315Z",
     "shell.execute_reply": "2023-12-06T14:17:25.469003Z"
    },
    "papermill": {
     "duration": 0.153116,
     "end_time": "2023-12-06T14:17:25.472932",
     "exception": false,
     "start_time": "2023-12-06T14:17:25.319816",
     "status": "completed"
    },
    "tags": []
   },
   "outputs": [
    {
     "name": "stdout",
     "output_type": "stream",
     "text": [
      "jumlah duplikasi data : 0\n"
     ]
    }
   ],
   "source": [
    "# Mengecek Data Duplikat\n",
    "print('jumlah duplikasi data :',df_order_item.duplicated().sum())"
   ]
  },
  {
   "cell_type": "markdown",
   "id": "4b8b58d1",
   "metadata": {
    "papermill": {
     "duration": 0.024222,
     "end_time": "2023-12-06T14:17:25.521803",
     "exception": false,
     "start_time": "2023-12-06T14:17:25.497581",
     "status": "completed"
    },
    "tags": []
   },
   "source": [
    "**Menilai tabel `df_kategori`**"
   ]
  },
  {
   "cell_type": "code",
   "execution_count": 15,
   "id": "0ca71b60",
   "metadata": {
    "execution": {
     "iopub.execute_input": "2023-12-06T14:17:25.573507Z",
     "iopub.status.busy": "2023-12-06T14:17:25.572946Z",
     "iopub.status.idle": "2023-12-06T14:17:25.582374Z",
     "shell.execute_reply": "2023-12-06T14:17:25.581089Z"
    },
    "papermill": {
     "duration": 0.038773,
     "end_time": "2023-12-06T14:17:25.584899",
     "exception": false,
     "start_time": "2023-12-06T14:17:25.546126",
     "status": "completed"
    },
    "tags": []
   },
   "outputs": [
    {
     "data": {
      "text/plain": [
       "product_category_name            0\n",
       "product_category_name_english    0\n",
       "dtype: int64"
      ]
     },
     "execution_count": 15,
     "metadata": {},
     "output_type": "execute_result"
    }
   ],
   "source": [
    "# Mengecek Missing values\n",
    "df_kategori.isna().sum()"
   ]
  },
  {
   "cell_type": "code",
   "execution_count": 16,
   "id": "ba6b23bd",
   "metadata": {
    "execution": {
     "iopub.execute_input": "2023-12-06T14:17:25.636706Z",
     "iopub.status.busy": "2023-12-06T14:17:25.636260Z",
     "iopub.status.idle": "2023-12-06T14:17:25.643939Z",
     "shell.execute_reply": "2023-12-06T14:17:25.642634Z"
    },
    "papermill": {
     "duration": 0.038077,
     "end_time": "2023-12-06T14:17:25.647589",
     "exception": false,
     "start_time": "2023-12-06T14:17:25.609512",
     "status": "completed"
    },
    "tags": []
   },
   "outputs": [
    {
     "name": "stdout",
     "output_type": "stream",
     "text": [
      "jumlah duplikasi data : 0\n"
     ]
    }
   ],
   "source": [
    "# Cek Duplikasi data\n",
    "print('jumlah duplikasi data :',df_kategori.duplicated().sum())"
   ]
  },
  {
   "cell_type": "markdown",
   "id": "e806affb",
   "metadata": {
    "papermill": {
     "duration": 0.023535,
     "end_time": "2023-12-06T14:17:25.695528",
     "exception": false,
     "start_time": "2023-12-06T14:17:25.671993",
     "status": "completed"
    },
    "tags": []
   },
   "source": [
    "**Menilai tabel `df_orders`**"
   ]
  },
  {
   "cell_type": "code",
   "execution_count": 17,
   "id": "870e50b1",
   "metadata": {
    "execution": {
     "iopub.execute_input": "2023-12-06T14:17:25.746627Z",
     "iopub.status.busy": "2023-12-06T14:17:25.746126Z",
     "iopub.status.idle": "2023-12-06T14:17:25.795927Z",
     "shell.execute_reply": "2023-12-06T14:17:25.794120Z"
    },
    "papermill": {
     "duration": 0.078359,
     "end_time": "2023-12-06T14:17:25.798707",
     "exception": false,
     "start_time": "2023-12-06T14:17:25.720348",
     "status": "completed"
    },
    "tags": []
   },
   "outputs": [
    {
     "data": {
      "text/plain": [
       "order_id                            0\n",
       "customer_id                         0\n",
       "order_status                        0\n",
       "order_purchase_timestamp            0\n",
       "order_approved_at                 160\n",
       "order_delivered_carrier_date     1783\n",
       "order_delivered_customer_date    2965\n",
       "order_estimated_delivery_date       0\n",
       "dtype: int64"
      ]
     },
     "execution_count": 17,
     "metadata": {},
     "output_type": "execute_result"
    }
   ],
   "source": [
    "# mengecek missing values\n",
    "df_orders.isna().sum()"
   ]
  },
  {
   "cell_type": "code",
   "execution_count": 18,
   "id": "7a867fad",
   "metadata": {
    "execution": {
     "iopub.execute_input": "2023-12-06T14:17:25.849829Z",
     "iopub.status.busy": "2023-12-06T14:17:25.849359Z",
     "iopub.status.idle": "2023-12-06T14:17:26.129823Z",
     "shell.execute_reply": "2023-12-06T14:17:26.128247Z"
    },
    "papermill": {
     "duration": 0.309582,
     "end_time": "2023-12-06T14:17:26.132751",
     "exception": false,
     "start_time": "2023-12-06T14:17:25.823169",
     "status": "completed"
    },
    "tags": []
   },
   "outputs": [
    {
     "name": "stdout",
     "output_type": "stream",
     "text": [
      "jumlah duplikasi data : 0\n"
     ]
    }
   ],
   "source": [
    "# Mengecek duplikasi data\n",
    "print('jumlah duplikasi data :',df_orders.duplicated().sum())"
   ]
  },
  {
   "cell_type": "code",
   "execution_count": 19,
   "id": "c690faba",
   "metadata": {
    "execution": {
     "iopub.execute_input": "2023-12-06T14:17:26.183135Z",
     "iopub.status.busy": "2023-12-06T14:17:26.182618Z",
     "iopub.status.idle": "2023-12-06T14:17:26.192160Z",
     "shell.execute_reply": "2023-12-06T14:17:26.190901Z"
    },
    "papermill": {
     "duration": 0.037571,
     "end_time": "2023-12-06T14:17:26.194756",
     "exception": false,
     "start_time": "2023-12-06T14:17:26.157185",
     "status": "completed"
    },
    "tags": []
   },
   "outputs": [
    {
     "data": {
      "text/plain": [
       "order_id                         object\n",
       "customer_id                      object\n",
       "order_status                     object\n",
       "order_purchase_timestamp         object\n",
       "order_approved_at                object\n",
       "order_delivered_carrier_date     object\n",
       "order_delivered_customer_date    object\n",
       "order_estimated_delivery_date    object\n",
       "dtype: object"
      ]
     },
     "execution_count": 19,
     "metadata": {},
     "output_type": "execute_result"
    }
   ],
   "source": [
    "df_orders.dtypes"
   ]
  },
  {
   "cell_type": "markdown",
   "id": "a10c14aa",
   "metadata": {
    "papermill": {
     "duration": 0.023938,
     "end_time": "2023-12-06T14:17:26.242809",
     "exception": false,
     "start_time": "2023-12-06T14:17:26.218871",
     "status": "completed"
    },
    "tags": []
   },
   "source": [
    "**Menilai tabel `df_customer`**"
   ]
  },
  {
   "cell_type": "code",
   "execution_count": 20,
   "id": "21c1f05f",
   "metadata": {
    "execution": {
     "iopub.execute_input": "2023-12-06T14:17:26.294051Z",
     "iopub.status.busy": "2023-12-06T14:17:26.293570Z",
     "iopub.status.idle": "2023-12-06T14:17:26.323454Z",
     "shell.execute_reply": "2023-12-06T14:17:26.322285Z"
    },
    "papermill": {
     "duration": 0.058406,
     "end_time": "2023-12-06T14:17:26.326093",
     "exception": false,
     "start_time": "2023-12-06T14:17:26.267687",
     "status": "completed"
    },
    "tags": []
   },
   "outputs": [
    {
     "data": {
      "text/plain": [
       "customer_id                 0\n",
       "customer_unique_id          0\n",
       "customer_zip_code_prefix    0\n",
       "customer_city               0\n",
       "customer_state              0\n",
       "dtype: int64"
      ]
     },
     "execution_count": 20,
     "metadata": {},
     "output_type": "execute_result"
    }
   ],
   "source": [
    "# Mengecek missing values\n",
    "df_customer.isna().sum()"
   ]
  },
  {
   "cell_type": "code",
   "execution_count": 21,
   "id": "962d6468",
   "metadata": {
    "execution": {
     "iopub.execute_input": "2023-12-06T14:17:26.376869Z",
     "iopub.status.busy": "2023-12-06T14:17:26.376381Z",
     "iopub.status.idle": "2023-12-06T14:17:26.476745Z",
     "shell.execute_reply": "2023-12-06T14:17:26.475874Z"
    },
    "papermill": {
     "duration": 0.128775,
     "end_time": "2023-12-06T14:17:26.479246",
     "exception": false,
     "start_time": "2023-12-06T14:17:26.350471",
     "status": "completed"
    },
    "tags": []
   },
   "outputs": [
    {
     "name": "stdout",
     "output_type": "stream",
     "text": [
      "jumlah duplikasi data : 0\n"
     ]
    }
   ],
   "source": [
    "# Mengecek duplikasi data\n",
    "print('jumlah duplikasi data :',df_customer.duplicated().sum())"
   ]
  },
  {
   "cell_type": "code",
   "execution_count": 22,
   "id": "d0add9e9",
   "metadata": {
    "execution": {
     "iopub.execute_input": "2023-12-06T14:17:26.532243Z",
     "iopub.status.busy": "2023-12-06T14:17:26.531098Z",
     "iopub.status.idle": "2023-12-06T14:17:26.539255Z",
     "shell.execute_reply": "2023-12-06T14:17:26.538412Z"
    },
    "papermill": {
     "duration": 0.036972,
     "end_time": "2023-12-06T14:17:26.541529",
     "exception": false,
     "start_time": "2023-12-06T14:17:26.504557",
     "status": "completed"
    },
    "tags": []
   },
   "outputs": [
    {
     "data": {
      "text/plain": [
       "customer_id                 object\n",
       "customer_unique_id          object\n",
       "customer_zip_code_prefix     int64\n",
       "customer_city               object\n",
       "customer_state              object\n",
       "dtype: object"
      ]
     },
     "execution_count": 22,
     "metadata": {},
     "output_type": "execute_result"
    }
   ],
   "source": [
    "# Mengecek Tipe data\n",
    "df_customer.dtypes"
   ]
  },
  {
   "cell_type": "markdown",
   "id": "8035c6ea",
   "metadata": {
    "papermill": {
     "duration": 0.024627,
     "end_time": "2023-12-06T14:17:26.591460",
     "exception": false,
     "start_time": "2023-12-06T14:17:26.566833",
     "status": "completed"
    },
    "tags": []
   },
   "source": [
    "**Menilai tabel `df_seller`**"
   ]
  },
  {
   "cell_type": "code",
   "execution_count": 23,
   "id": "83af9ee7",
   "metadata": {
    "execution": {
     "iopub.execute_input": "2023-12-06T14:17:26.643578Z",
     "iopub.status.busy": "2023-12-06T14:17:26.643085Z",
     "iopub.status.idle": "2023-12-06T14:17:26.652708Z",
     "shell.execute_reply": "2023-12-06T14:17:26.651541Z"
    },
    "papermill": {
     "duration": 0.038347,
     "end_time": "2023-12-06T14:17:26.655001",
     "exception": false,
     "start_time": "2023-12-06T14:17:26.616654",
     "status": "completed"
    },
    "tags": []
   },
   "outputs": [
    {
     "data": {
      "text/plain": [
       "seller_id                 0\n",
       "seller_zip_code_prefix    0\n",
       "seller_city               0\n",
       "seller_state              0\n",
       "dtype: int64"
      ]
     },
     "execution_count": 23,
     "metadata": {},
     "output_type": "execute_result"
    }
   ],
   "source": [
    "# Mengecek Missing Values\n",
    "df_seller.isna().sum()"
   ]
  },
  {
   "cell_type": "code",
   "execution_count": 24,
   "id": "7d1f0953",
   "metadata": {
    "execution": {
     "iopub.execute_input": "2023-12-06T14:17:26.707167Z",
     "iopub.status.busy": "2023-12-06T14:17:26.706647Z",
     "iopub.status.idle": "2023-12-06T14:17:26.716034Z",
     "shell.execute_reply": "2023-12-06T14:17:26.714888Z"
    },
    "papermill": {
     "duration": 0.038295,
     "end_time": "2023-12-06T14:17:26.718554",
     "exception": false,
     "start_time": "2023-12-06T14:17:26.680259",
     "status": "completed"
    },
    "tags": []
   },
   "outputs": [
    {
     "name": "stdout",
     "output_type": "stream",
     "text": [
      "Duplikasi data : 0\n"
     ]
    }
   ],
   "source": [
    "# Mengecek Duplikasi data\n",
    "print('Duplikasi data :', df_seller.duplicated().sum())"
   ]
  },
  {
   "cell_type": "markdown",
   "id": "63b74f49",
   "metadata": {
    "papermill": {
     "duration": 0.024687,
     "end_time": "2023-12-06T14:17:26.768899",
     "exception": false,
     "start_time": "2023-12-06T14:17:26.744212",
     "status": "completed"
    },
    "tags": []
   },
   "source": [
    "## Cleaning Data"
   ]
  },
  {
   "cell_type": "markdown",
   "id": "fb10fdb4",
   "metadata": {
    "papermill": {
     "duration": 0.025113,
     "end_time": "2023-12-06T14:17:26.819126",
     "exception": false,
     "start_time": "2023-12-06T14:17:26.794013",
     "status": "completed"
    },
    "tags": []
   },
   "source": [
    "**Cleaning Tabel `df_produk`**"
   ]
  },
  {
   "cell_type": "code",
   "execution_count": 25,
   "id": "e1d8927d",
   "metadata": {
    "execution": {
     "iopub.execute_input": "2023-12-06T14:17:26.872571Z",
     "iopub.status.busy": "2023-12-06T14:17:26.871674Z",
     "iopub.status.idle": "2023-12-06T14:17:26.885776Z",
     "shell.execute_reply": "2023-12-06T14:17:26.884810Z"
    },
    "papermill": {
     "duration": 0.044304,
     "end_time": "2023-12-06T14:17:26.889150",
     "exception": false,
     "start_time": "2023-12-06T14:17:26.844846",
     "status": "completed"
    },
    "tags": []
   },
   "outputs": [
    {
     "data": {
      "text/plain": [
       "product_id                      0\n",
       "product_category_name         610\n",
       "product_name_lenght           610\n",
       "product_description_lenght    610\n",
       "product_photos_qty            610\n",
       "product_weight_g                2\n",
       "product_length_cm               2\n",
       "product_height_cm               2\n",
       "product_width_cm                2\n",
       "dtype: int64"
      ]
     },
     "execution_count": 25,
     "metadata": {},
     "output_type": "execute_result"
    }
   ],
   "source": [
    "# Handling missing values\n",
    "df_produk.isna().sum()"
   ]
  },
  {
   "cell_type": "markdown",
   "id": "b6a24fa5",
   "metadata": {
    "papermill": {
     "duration": 0.026556,
     "end_time": "2023-12-06T14:17:26.941984",
     "exception": false,
     "start_time": "2023-12-06T14:17:26.915428",
     "status": "completed"
    },
    "tags": []
   },
   "source": [
    "**Handling missing values**"
   ]
  },
  {
   "cell_type": "code",
   "execution_count": 26,
   "id": "42d0cf1d",
   "metadata": {
    "execution": {
     "iopub.execute_input": "2023-12-06T14:17:26.997461Z",
     "iopub.status.busy": "2023-12-06T14:17:26.996568Z",
     "iopub.status.idle": "2023-12-06T14:17:27.133079Z",
     "shell.execute_reply": "2023-12-06T14:17:27.131614Z"
    },
    "papermill": {
     "duration": 0.166933,
     "end_time": "2023-12-06T14:17:27.136922",
     "exception": false,
     "start_time": "2023-12-06T14:17:26.969989",
     "status": "completed"
    },
    "tags": []
   },
   "outputs": [],
   "source": [
    "# menangani missing values dengan method ffill (mengisi nilai yang hilang dengan nilai dari baris sebelumnya)\n",
    "\n",
    "df_produk['product_weight_g'].fillna(method='ffill', inplace=True)\n",
    "df_produk['product_length_cm'].fillna(method='ffill', inplace=True)\n",
    "df_produk['product_height_cm'].fillna(method='ffill', inplace=True)\n",
    "df_produk['product_width_cm'].fillna(method='ffill', inplace=True)\n",
    "df_produk['product_name_lenght'].fillna(method='ffill', inplace=True)\n",
    "df_produk['product_description_lenght'].fillna(method='ffill', inplace=True)\n",
    "df_produk['product_photos_qty'].fillna(method='ffill', inplace=True) "
   ]
  },
  {
   "cell_type": "code",
   "execution_count": 27,
   "id": "c6a95f31",
   "metadata": {
    "execution": {
     "iopub.execute_input": "2023-12-06T14:17:27.190395Z",
     "iopub.status.busy": "2023-12-06T14:17:27.189861Z",
     "iopub.status.idle": "2023-12-06T14:17:27.201976Z",
     "shell.execute_reply": "2023-12-06T14:17:27.200468Z"
    },
    "papermill": {
     "duration": 0.042321,
     "end_time": "2023-12-06T14:17:27.204779",
     "exception": false,
     "start_time": "2023-12-06T14:17:27.162458",
     "status": "completed"
    },
    "tags": []
   },
   "outputs": [],
   "source": [
    "# manangani missing Values dengan modus\n",
    "\n",
    "mode_category = df_produk['product_category_name'].mode()[0]\n",
    "df_produk['product_category_name'].fillna(value=mode_category, inplace=True)"
   ]
  },
  {
   "cell_type": "code",
   "execution_count": 28,
   "id": "78b9ff61",
   "metadata": {
    "execution": {
     "iopub.execute_input": "2023-12-06T14:17:27.259138Z",
     "iopub.status.busy": "2023-12-06T14:17:27.258380Z",
     "iopub.status.idle": "2023-12-06T14:17:27.271655Z",
     "shell.execute_reply": "2023-12-06T14:17:27.270637Z"
    },
    "papermill": {
     "duration": 0.043265,
     "end_time": "2023-12-06T14:17:27.274156",
     "exception": false,
     "start_time": "2023-12-06T14:17:27.230891",
     "status": "completed"
    },
    "tags": []
   },
   "outputs": [
    {
     "data": {
      "text/plain": [
       "product_id                    0\n",
       "product_category_name         0\n",
       "product_name_lenght           0\n",
       "product_description_lenght    0\n",
       "product_photos_qty            0\n",
       "product_weight_g              0\n",
       "product_length_cm             0\n",
       "product_height_cm             0\n",
       "product_width_cm              0\n",
       "dtype: int64"
      ]
     },
     "execution_count": 28,
     "metadata": {},
     "output_type": "execute_result"
    }
   ],
   "source": [
    "df_produk.isna().sum()"
   ]
  },
  {
   "cell_type": "markdown",
   "id": "dc011f27",
   "metadata": {
    "papermill": {
     "duration": 0.025047,
     "end_time": "2023-12-06T14:17:27.324667",
     "exception": false,
     "start_time": "2023-12-06T14:17:27.299620",
     "status": "completed"
    },
    "tags": []
   },
   "source": [
    "**Cleaning Tabel `df_order_items`**\n",
    "\n",
    "**Handling Data type**"
   ]
  },
  {
   "cell_type": "code",
   "execution_count": 29,
   "id": "257295da",
   "metadata": {
    "execution": {
     "iopub.execute_input": "2023-12-06T14:17:27.379793Z",
     "iopub.status.busy": "2023-12-06T14:17:27.378931Z",
     "iopub.status.idle": "2023-12-06T14:17:27.432755Z",
     "shell.execute_reply": "2023-12-06T14:17:27.431689Z"
    },
    "papermill": {
     "duration": 0.083482,
     "end_time": "2023-12-06T14:17:27.435587",
     "exception": false,
     "start_time": "2023-12-06T14:17:27.352105",
     "status": "completed"
    },
    "tags": []
   },
   "outputs": [],
   "source": [
    "df_order_item['shipping_limit_date'] = pd.to_datetime(df_order_item['shipping_limit_date'])"
   ]
  },
  {
   "cell_type": "code",
   "execution_count": 30,
   "id": "6115a604",
   "metadata": {
    "execution": {
     "iopub.execute_input": "2023-12-06T14:17:27.488335Z",
     "iopub.status.busy": "2023-12-06T14:17:27.487538Z",
     "iopub.status.idle": "2023-12-06T14:17:27.495387Z",
     "shell.execute_reply": "2023-12-06T14:17:27.494464Z"
    },
    "papermill": {
     "duration": 0.036919,
     "end_time": "2023-12-06T14:17:27.497651",
     "exception": false,
     "start_time": "2023-12-06T14:17:27.460732",
     "status": "completed"
    },
    "tags": []
   },
   "outputs": [
    {
     "data": {
      "text/plain": [
       "order_id                       object\n",
       "order_item_id                   int64\n",
       "product_id                     object\n",
       "seller_id                      object\n",
       "shipping_limit_date    datetime64[ns]\n",
       "price                         float64\n",
       "freight_value                 float64\n",
       "dtype: object"
      ]
     },
     "execution_count": 30,
     "metadata": {},
     "output_type": "execute_result"
    }
   ],
   "source": [
    "df_order_item.dtypes"
   ]
  },
  {
   "cell_type": "markdown",
   "id": "a2f98a72",
   "metadata": {
    "papermill": {
     "duration": 0.024979,
     "end_time": "2023-12-06T14:17:27.548736",
     "exception": false,
     "start_time": "2023-12-06T14:17:27.523757",
     "status": "completed"
    },
    "tags": []
   },
   "source": [
    "**Cleaning Tabel `df_orders`**"
   ]
  },
  {
   "cell_type": "markdown",
   "id": "3acfd7f5",
   "metadata": {
    "papermill": {
     "duration": 0.025634,
     "end_time": "2023-12-06T14:17:27.599378",
     "exception": false,
     "start_time": "2023-12-06T14:17:27.573744",
     "status": "completed"
    },
    "tags": []
   },
   "source": [
    "**Handling missing values**"
   ]
  },
  {
   "cell_type": "code",
   "execution_count": 31,
   "id": "06564e22",
   "metadata": {
    "execution": {
     "iopub.execute_input": "2023-12-06T14:17:27.653065Z",
     "iopub.status.busy": "2023-12-06T14:17:27.652298Z",
     "iopub.status.idle": "2023-12-06T14:17:27.702630Z",
     "shell.execute_reply": "2023-12-06T14:17:27.701280Z"
    },
    "papermill": {
     "duration": 0.079679,
     "end_time": "2023-12-06T14:17:27.705243",
     "exception": false,
     "start_time": "2023-12-06T14:17:27.625564",
     "status": "completed"
    },
    "tags": []
   },
   "outputs": [
    {
     "data": {
      "text/plain": [
       "order_id                            0\n",
       "customer_id                         0\n",
       "order_status                        0\n",
       "order_purchase_timestamp            0\n",
       "order_approved_at                 160\n",
       "order_delivered_carrier_date     1783\n",
       "order_delivered_customer_date    2965\n",
       "order_estimated_delivery_date       0\n",
       "dtype: int64"
      ]
     },
     "execution_count": 31,
     "metadata": {},
     "output_type": "execute_result"
    }
   ],
   "source": [
    "df_orders.isna().sum()"
   ]
  },
  {
   "cell_type": "code",
   "execution_count": 32,
   "id": "9afdabd8",
   "metadata": {
    "execution": {
     "iopub.execute_input": "2023-12-06T14:17:27.757911Z",
     "iopub.status.busy": "2023-12-06T14:17:27.757404Z",
     "iopub.status.idle": "2023-12-06T14:17:27.825960Z",
     "shell.execute_reply": "2023-12-06T14:17:27.824336Z"
    },
    "papermill": {
     "duration": 0.098185,
     "end_time": "2023-12-06T14:17:27.828817",
     "exception": false,
     "start_time": "2023-12-06T14:17:27.730632",
     "status": "completed"
    },
    "tags": []
   },
   "outputs": [],
   "source": [
    "df_orders.dropna(axis=0, inplace=True)"
   ]
  },
  {
   "cell_type": "code",
   "execution_count": 33,
   "id": "2c55b5e9",
   "metadata": {
    "execution": {
     "iopub.execute_input": "2023-12-06T14:17:27.885253Z",
     "iopub.status.busy": "2023-12-06T14:17:27.884105Z",
     "iopub.status.idle": "2023-12-06T14:17:27.931204Z",
     "shell.execute_reply": "2023-12-06T14:17:27.930087Z"
    },
    "papermill": {
     "duration": 0.077823,
     "end_time": "2023-12-06T14:17:27.933667",
     "exception": false,
     "start_time": "2023-12-06T14:17:27.855844",
     "status": "completed"
    },
    "tags": []
   },
   "outputs": [
    {
     "data": {
      "text/plain": [
       "order_id                         0\n",
       "customer_id                      0\n",
       "order_status                     0\n",
       "order_purchase_timestamp         0\n",
       "order_approved_at                0\n",
       "order_delivered_carrier_date     0\n",
       "order_delivered_customer_date    0\n",
       "order_estimated_delivery_date    0\n",
       "dtype: int64"
      ]
     },
     "execution_count": 33,
     "metadata": {},
     "output_type": "execute_result"
    }
   ],
   "source": [
    "df_orders.isna().sum()"
   ]
  },
  {
   "cell_type": "markdown",
   "id": "11c04336",
   "metadata": {
    "papermill": {
     "duration": 0.026866,
     "end_time": "2023-12-06T14:17:27.987073",
     "exception": false,
     "start_time": "2023-12-06T14:17:27.960207",
     "status": "completed"
    },
    "tags": []
   },
   "source": [
    "**Handling Data type**"
   ]
  },
  {
   "cell_type": "code",
   "execution_count": 34,
   "id": "a874bc9c",
   "metadata": {
    "execution": {
     "iopub.execute_input": "2023-12-06T14:17:28.042129Z",
     "iopub.status.busy": "2023-12-06T14:17:28.040836Z",
     "iopub.status.idle": "2023-12-06T14:17:28.049275Z",
     "shell.execute_reply": "2023-12-06T14:17:28.048329Z"
    },
    "papermill": {
     "duration": 0.037898,
     "end_time": "2023-12-06T14:17:28.051596",
     "exception": false,
     "start_time": "2023-12-06T14:17:28.013698",
     "status": "completed"
    },
    "tags": []
   },
   "outputs": [
    {
     "data": {
      "text/plain": [
       "order_id                         object\n",
       "customer_id                      object\n",
       "order_status                     object\n",
       "order_purchase_timestamp         object\n",
       "order_approved_at                object\n",
       "order_delivered_carrier_date     object\n",
       "order_delivered_customer_date    object\n",
       "order_estimated_delivery_date    object\n",
       "dtype: object"
      ]
     },
     "execution_count": 34,
     "metadata": {},
     "output_type": "execute_result"
    }
   ],
   "source": [
    "df_orders.dtypes"
   ]
  },
  {
   "cell_type": "code",
   "execution_count": 35,
   "id": "35440e56",
   "metadata": {
    "execution": {
     "iopub.execute_input": "2023-12-06T14:17:28.105632Z",
     "iopub.status.busy": "2023-12-06T14:17:28.104819Z",
     "iopub.status.idle": "2023-12-06T14:17:28.269798Z",
     "shell.execute_reply": "2023-12-06T14:17:28.268804Z"
    },
    "papermill": {
     "duration": 0.194997,
     "end_time": "2023-12-06T14:17:28.272694",
     "exception": false,
     "start_time": "2023-12-06T14:17:28.077697",
     "status": "completed"
    },
    "tags": []
   },
   "outputs": [],
   "source": [
    "df_orders['order_purchase_timestamp'] = pd.to_datetime(df_orders['order_purchase_timestamp'])\n",
    "df_orders['order_approved_at'] = pd.to_datetime(df_orders['order_approved_at'])\n",
    "df_orders['order_delivered_carrier_date'] = pd.to_datetime(df_orders['order_delivered_carrier_date'])\n",
    "df_orders['order_delivered_customer_date'] = pd.to_datetime(df_orders['order_delivered_customer_date'])\n",
    "df_orders['order_estimated_delivery_date'] = pd.to_datetime(df_orders['order_estimated_delivery_date'])"
   ]
  },
  {
   "cell_type": "code",
   "execution_count": 36,
   "id": "cdc1881f",
   "metadata": {
    "execution": {
     "iopub.execute_input": "2023-12-06T14:17:28.326553Z",
     "iopub.status.busy": "2023-12-06T14:17:28.325743Z",
     "iopub.status.idle": "2023-12-06T14:17:28.335301Z",
     "shell.execute_reply": "2023-12-06T14:17:28.334038Z"
    },
    "papermill": {
     "duration": 0.039465,
     "end_time": "2023-12-06T14:17:28.337980",
     "exception": false,
     "start_time": "2023-12-06T14:17:28.298515",
     "status": "completed"
    },
    "tags": []
   },
   "outputs": [
    {
     "data": {
      "text/plain": [
       "order_id                                 object\n",
       "customer_id                              object\n",
       "order_status                             object\n",
       "order_purchase_timestamp         datetime64[ns]\n",
       "order_approved_at                datetime64[ns]\n",
       "order_delivered_carrier_date     datetime64[ns]\n",
       "order_delivered_customer_date    datetime64[ns]\n",
       "order_estimated_delivery_date    datetime64[ns]\n",
       "dtype: object"
      ]
     },
     "execution_count": 36,
     "metadata": {},
     "output_type": "execute_result"
    }
   ],
   "source": [
    "df_orders.dtypes"
   ]
  },
  {
   "cell_type": "markdown",
   "id": "852cd8cc",
   "metadata": {
    "papermill": {
     "duration": 0.025231,
     "end_time": "2023-12-06T14:17:28.389324",
     "exception": false,
     "start_time": "2023-12-06T14:17:28.364093",
     "status": "completed"
    },
    "tags": []
   },
   "source": [
    "# Exploratory Data Analysis (EDA)"
   ]
  },
  {
   "cell_type": "markdown",
   "id": "d76fbc4d",
   "metadata": {
    "papermill": {
     "duration": 0.028396,
     "end_time": "2023-12-06T14:17:28.443189",
     "exception": false,
     "start_time": "2023-12-06T14:17:28.414793",
     "status": "completed"
    },
    "tags": []
   },
   "source": [
    "## Explore Tabel `df_produk` & `df_order_items`"
   ]
  },
  {
   "cell_type": "markdown",
   "id": "ab90f8d4",
   "metadata": {
    "papermill": {
     "duration": 0.025402,
     "end_time": "2023-12-06T14:17:28.494197",
     "exception": false,
     "start_time": "2023-12-06T14:17:28.468795",
     "status": "completed"
    },
    "tags": []
   },
   "source": [
    "**Merge `df_produk` & `df_order_item`**"
   ]
  },
  {
   "cell_type": "code",
   "execution_count": 37,
   "id": "feb25071",
   "metadata": {
    "execution": {
     "iopub.execute_input": "2023-12-06T14:17:28.549370Z",
     "iopub.status.busy": "2023-12-06T14:17:28.548894Z",
     "iopub.status.idle": "2023-12-06T14:17:28.676359Z",
     "shell.execute_reply": "2023-12-06T14:17:28.675004Z"
    },
    "papermill": {
     "duration": 0.15904,
     "end_time": "2023-12-06T14:17:28.679445",
     "exception": false,
     "start_time": "2023-12-06T14:17:28.520405",
     "status": "completed"
    },
    "tags": []
   },
   "outputs": [],
   "source": [
    "kategori_info = pd.merge(df_produk[['product_id', 'product_category_name']], df_order_item[['order_id','order_item_id','product_id','shipping_limit_date']], on='product_id', how='inner')"
   ]
  },
  {
   "cell_type": "code",
   "execution_count": 38,
   "id": "eb244bbc",
   "metadata": {
    "execution": {
     "iopub.execute_input": "2023-12-06T14:17:28.736306Z",
     "iopub.status.busy": "2023-12-06T14:17:28.735817Z",
     "iopub.status.idle": "2023-12-06T14:17:28.753090Z",
     "shell.execute_reply": "2023-12-06T14:17:28.752143Z"
    },
    "papermill": {
     "duration": 0.048094,
     "end_time": "2023-12-06T14:17:28.755170",
     "exception": false,
     "start_time": "2023-12-06T14:17:28.707076",
     "status": "completed"
    },
    "tags": []
   },
   "outputs": [
    {
     "data": {
      "text/html": [
       "<div>\n",
       "<style scoped>\n",
       "    .dataframe tbody tr th:only-of-type {\n",
       "        vertical-align: middle;\n",
       "    }\n",
       "\n",
       "    .dataframe tbody tr th {\n",
       "        vertical-align: top;\n",
       "    }\n",
       "\n",
       "    .dataframe thead th {\n",
       "        text-align: right;\n",
       "    }\n",
       "</style>\n",
       "<table border=\"1\" class=\"dataframe\">\n",
       "  <thead>\n",
       "    <tr style=\"text-align: right;\">\n",
       "      <th></th>\n",
       "      <th>product_id</th>\n",
       "      <th>product_category_name</th>\n",
       "      <th>order_id</th>\n",
       "      <th>order_item_id</th>\n",
       "      <th>shipping_limit_date</th>\n",
       "    </tr>\n",
       "  </thead>\n",
       "  <tbody>\n",
       "    <tr>\n",
       "      <th>0</th>\n",
       "      <td>1e9e8ef04dbcff4541ed26657ea517e5</td>\n",
       "      <td>perfumaria</td>\n",
       "      <td>e17e4f88e31525f7deef66779844ddce</td>\n",
       "      <td>1</td>\n",
       "      <td>2018-04-30 17:33:54</td>\n",
       "    </tr>\n",
       "    <tr>\n",
       "      <th>1</th>\n",
       "      <td>3aa071139cb16b67ca9e5dea641aaa2f</td>\n",
       "      <td>artes</td>\n",
       "      <td>5236307716393b7114b53ee991f36956</td>\n",
       "      <td>1</td>\n",
       "      <td>2018-02-06 19:11:15</td>\n",
       "    </tr>\n",
       "    <tr>\n",
       "      <th>2</th>\n",
       "      <td>96bd76ec8810374ed1b65e291975717f</td>\n",
       "      <td>esporte_lazer</td>\n",
       "      <td>01f66e58769f84129811d43eefd187fb</td>\n",
       "      <td>1</td>\n",
       "      <td>2018-07-11 21:30:20</td>\n",
       "    </tr>\n",
       "    <tr>\n",
       "      <th>3</th>\n",
       "      <td>cef67bcfe19066a932b7673e239eb23d</td>\n",
       "      <td>bebes</td>\n",
       "      <td>143d00a4f2dde4e0364ee1821577adb3</td>\n",
       "      <td>1</td>\n",
       "      <td>2018-08-07 09:10:13</td>\n",
       "    </tr>\n",
       "    <tr>\n",
       "      <th>4</th>\n",
       "      <td>9dc1a7de274444849c219cff195d0b71</td>\n",
       "      <td>utilidades_domesticas</td>\n",
       "      <td>86cafb8794cb99a9b1b77fc8e48fbbbb</td>\n",
       "      <td>1</td>\n",
       "      <td>2018-04-17 01:30:23</td>\n",
       "    </tr>\n",
       "    <tr>\n",
       "      <th>...</th>\n",
       "      <td>...</td>\n",
       "      <td>...</td>\n",
       "      <td>...</td>\n",
       "      <td>...</td>\n",
       "      <td>...</td>\n",
       "    </tr>\n",
       "    <tr>\n",
       "      <th>112645</th>\n",
       "      <td>83808703fc0706a22e264b9d75f04a2e</td>\n",
       "      <td>informatica_acessorios</td>\n",
       "      <td>59e88b7d3675e89aceaf86f372d3bc9a</td>\n",
       "      <td>2</td>\n",
       "      <td>2018-01-10 03:32:09</td>\n",
       "    </tr>\n",
       "    <tr>\n",
       "      <th>112646</th>\n",
       "      <td>83808703fc0706a22e264b9d75f04a2e</td>\n",
       "      <td>informatica_acessorios</td>\n",
       "      <td>6e4465d771f02e4fe335225de3c6c043</td>\n",
       "      <td>1</td>\n",
       "      <td>2018-03-14 02:30:48</td>\n",
       "    </tr>\n",
       "    <tr>\n",
       "      <th>112647</th>\n",
       "      <td>83808703fc0706a22e264b9d75f04a2e</td>\n",
       "      <td>informatica_acessorios</td>\n",
       "      <td>6e4465d771f02e4fe335225de3c6c043</td>\n",
       "      <td>2</td>\n",
       "      <td>2018-03-14 02:30:48</td>\n",
       "    </tr>\n",
       "    <tr>\n",
       "      <th>112648</th>\n",
       "      <td>83808703fc0706a22e264b9d75f04a2e</td>\n",
       "      <td>informatica_acessorios</td>\n",
       "      <td>6e4465d771f02e4fe335225de3c6c043</td>\n",
       "      <td>3</td>\n",
       "      <td>2018-03-14 02:30:48</td>\n",
       "    </tr>\n",
       "    <tr>\n",
       "      <th>112649</th>\n",
       "      <td>106392145fca363410d287a815be6de4</td>\n",
       "      <td>cama_mesa_banho</td>\n",
       "      <td>f3a47ba087f05d39a74ed1b653f0be1b</td>\n",
       "      <td>1</td>\n",
       "      <td>2018-07-02 08:30:34</td>\n",
       "    </tr>\n",
       "  </tbody>\n",
       "</table>\n",
       "<p>112650 rows × 5 columns</p>\n",
       "</div>"
      ],
      "text/plain": [
       "                              product_id   product_category_name  \\\n",
       "0       1e9e8ef04dbcff4541ed26657ea517e5              perfumaria   \n",
       "1       3aa071139cb16b67ca9e5dea641aaa2f                   artes   \n",
       "2       96bd76ec8810374ed1b65e291975717f           esporte_lazer   \n",
       "3       cef67bcfe19066a932b7673e239eb23d                   bebes   \n",
       "4       9dc1a7de274444849c219cff195d0b71   utilidades_domesticas   \n",
       "...                                  ...                     ...   \n",
       "112645  83808703fc0706a22e264b9d75f04a2e  informatica_acessorios   \n",
       "112646  83808703fc0706a22e264b9d75f04a2e  informatica_acessorios   \n",
       "112647  83808703fc0706a22e264b9d75f04a2e  informatica_acessorios   \n",
       "112648  83808703fc0706a22e264b9d75f04a2e  informatica_acessorios   \n",
       "112649  106392145fca363410d287a815be6de4         cama_mesa_banho   \n",
       "\n",
       "                                order_id  order_item_id shipping_limit_date  \n",
       "0       e17e4f88e31525f7deef66779844ddce              1 2018-04-30 17:33:54  \n",
       "1       5236307716393b7114b53ee991f36956              1 2018-02-06 19:11:15  \n",
       "2       01f66e58769f84129811d43eefd187fb              1 2018-07-11 21:30:20  \n",
       "3       143d00a4f2dde4e0364ee1821577adb3              1 2018-08-07 09:10:13  \n",
       "4       86cafb8794cb99a9b1b77fc8e48fbbbb              1 2018-04-17 01:30:23  \n",
       "...                                  ...            ...                 ...  \n",
       "112645  59e88b7d3675e89aceaf86f372d3bc9a              2 2018-01-10 03:32:09  \n",
       "112646  6e4465d771f02e4fe335225de3c6c043              1 2018-03-14 02:30:48  \n",
       "112647  6e4465d771f02e4fe335225de3c6c043              2 2018-03-14 02:30:48  \n",
       "112648  6e4465d771f02e4fe335225de3c6c043              3 2018-03-14 02:30:48  \n",
       "112649  f3a47ba087f05d39a74ed1b653f0be1b              1 2018-07-02 08:30:34  \n",
       "\n",
       "[112650 rows x 5 columns]"
      ]
     },
     "execution_count": 38,
     "metadata": {},
     "output_type": "execute_result"
    }
   ],
   "source": [
    "kategori_info"
   ]
  },
  {
   "cell_type": "markdown",
   "id": "2b53ecd6",
   "metadata": {
    "papermill": {
     "duration": 0.024932,
     "end_time": "2023-12-06T14:17:28.805653",
     "exception": false,
     "start_time": "2023-12-06T14:17:28.780721",
     "status": "completed"
    },
    "tags": []
   },
   "source": [
    "## Explore Tabel `kategori_info` & `df_kategori`"
   ]
  },
  {
   "cell_type": "markdown",
   "id": "b51bd1fa",
   "metadata": {
    "papermill": {
     "duration": 0.025818,
     "end_time": "2023-12-06T14:17:28.857647",
     "exception": false,
     "start_time": "2023-12-06T14:17:28.831829",
     "status": "completed"
    },
    "tags": []
   },
   "source": [
    "**Merge `kategori_info` & `df_kategori`**"
   ]
  },
  {
   "cell_type": "code",
   "execution_count": 39,
   "id": "863bcd8b",
   "metadata": {
    "execution": {
     "iopub.execute_input": "2023-12-06T14:17:28.915042Z",
     "iopub.status.busy": "2023-12-06T14:17:28.913849Z",
     "iopub.status.idle": "2023-12-06T14:17:28.963771Z",
     "shell.execute_reply": "2023-12-06T14:17:28.962340Z"
    },
    "papermill": {
     "duration": 0.082248,
     "end_time": "2023-12-06T14:17:28.966673",
     "exception": false,
     "start_time": "2023-12-06T14:17:28.884425",
     "status": "completed"
    },
    "tags": []
   },
   "outputs": [],
   "source": [
    "kategori_info = pd.merge(kategori_info,df_kategori[['product_category_name', 'product_category_name_english']], on='product_category_name', how='inner')"
   ]
  },
  {
   "cell_type": "code",
   "execution_count": 40,
   "id": "963b7505",
   "metadata": {
    "execution": {
     "iopub.execute_input": "2023-12-06T14:17:29.025787Z",
     "iopub.status.busy": "2023-12-06T14:17:29.024874Z",
     "iopub.status.idle": "2023-12-06T14:17:29.038675Z",
     "shell.execute_reply": "2023-12-06T14:17:29.037331Z"
    },
    "papermill": {
     "duration": 0.04601,
     "end_time": "2023-12-06T14:17:29.041190",
     "exception": false,
     "start_time": "2023-12-06T14:17:28.995180",
     "status": "completed"
    },
    "tags": []
   },
   "outputs": [
    {
     "data": {
      "text/html": [
       "<div>\n",
       "<style scoped>\n",
       "    .dataframe tbody tr th:only-of-type {\n",
       "        vertical-align: middle;\n",
       "    }\n",
       "\n",
       "    .dataframe tbody tr th {\n",
       "        vertical-align: top;\n",
       "    }\n",
       "\n",
       "    .dataframe thead th {\n",
       "        text-align: right;\n",
       "    }\n",
       "</style>\n",
       "<table border=\"1\" class=\"dataframe\">\n",
       "  <thead>\n",
       "    <tr style=\"text-align: right;\">\n",
       "      <th></th>\n",
       "      <th>product_id</th>\n",
       "      <th>product_category_name</th>\n",
       "      <th>order_id</th>\n",
       "      <th>order_item_id</th>\n",
       "      <th>shipping_limit_date</th>\n",
       "      <th>product_category_name_english</th>\n",
       "    </tr>\n",
       "  </thead>\n",
       "  <tbody>\n",
       "    <tr>\n",
       "      <th>0</th>\n",
       "      <td>1e9e8ef04dbcff4541ed26657ea517e5</td>\n",
       "      <td>perfumaria</td>\n",
       "      <td>e17e4f88e31525f7deef66779844ddce</td>\n",
       "      <td>1</td>\n",
       "      <td>2018-04-30 17:33:54</td>\n",
       "      <td>perfumery</td>\n",
       "    </tr>\n",
       "    <tr>\n",
       "      <th>1</th>\n",
       "      <td>6a2fb4dd53d2cdb88e0432f1284a004c</td>\n",
       "      <td>perfumaria</td>\n",
       "      <td>048cc42e03ca8d43c729adf6962cb348</td>\n",
       "      <td>1</td>\n",
       "      <td>2017-11-23 21:31:31</td>\n",
       "      <td>perfumery</td>\n",
       "    </tr>\n",
       "    <tr>\n",
       "      <th>2</th>\n",
       "      <td>6a2fb4dd53d2cdb88e0432f1284a004c</td>\n",
       "      <td>perfumaria</td>\n",
       "      <td>5fa78e91b5cb84b6a8ccc42733f95742</td>\n",
       "      <td>1</td>\n",
       "      <td>2017-12-14 16:33:14</td>\n",
       "      <td>perfumery</td>\n",
       "    </tr>\n",
       "    <tr>\n",
       "      <th>3</th>\n",
       "      <td>0d009643171aee696f4733340bc2fdd0</td>\n",
       "      <td>perfumaria</td>\n",
       "      <td>24b1c4d88fdb7a2dc87f8ecc7d8f47f1</td>\n",
       "      <td>1</td>\n",
       "      <td>2017-08-03 09:50:14</td>\n",
       "      <td>perfumery</td>\n",
       "    </tr>\n",
       "    <tr>\n",
       "      <th>4</th>\n",
       "      <td>0d009643171aee696f4733340bc2fdd0</td>\n",
       "      <td>perfumaria</td>\n",
       "      <td>7b13c77c64a9a956500cbf1a9a23798d</td>\n",
       "      <td>1</td>\n",
       "      <td>2018-05-30 10:38:35</td>\n",
       "      <td>perfumery</td>\n",
       "    </tr>\n",
       "  </tbody>\n",
       "</table>\n",
       "</div>"
      ],
      "text/plain": [
       "                         product_id product_category_name  \\\n",
       "0  1e9e8ef04dbcff4541ed26657ea517e5            perfumaria   \n",
       "1  6a2fb4dd53d2cdb88e0432f1284a004c            perfumaria   \n",
       "2  6a2fb4dd53d2cdb88e0432f1284a004c            perfumaria   \n",
       "3  0d009643171aee696f4733340bc2fdd0            perfumaria   \n",
       "4  0d009643171aee696f4733340bc2fdd0            perfumaria   \n",
       "\n",
       "                           order_id  order_item_id shipping_limit_date  \\\n",
       "0  e17e4f88e31525f7deef66779844ddce              1 2018-04-30 17:33:54   \n",
       "1  048cc42e03ca8d43c729adf6962cb348              1 2017-11-23 21:31:31   \n",
       "2  5fa78e91b5cb84b6a8ccc42733f95742              1 2017-12-14 16:33:14   \n",
       "3  24b1c4d88fdb7a2dc87f8ecc7d8f47f1              1 2017-08-03 09:50:14   \n",
       "4  7b13c77c64a9a956500cbf1a9a23798d              1 2018-05-30 10:38:35   \n",
       "\n",
       "  product_category_name_english  \n",
       "0                     perfumery  \n",
       "1                     perfumery  \n",
       "2                     perfumery  \n",
       "3                     perfumery  \n",
       "4                     perfumery  "
      ]
     },
     "execution_count": 40,
     "metadata": {},
     "output_type": "execute_result"
    }
   ],
   "source": [
    "kategori_info.head()"
   ]
  },
  {
   "cell_type": "code",
   "execution_count": 41,
   "id": "02a5e98f",
   "metadata": {
    "execution": {
     "iopub.execute_input": "2023-12-06T14:17:29.095999Z",
     "iopub.status.busy": "2023-12-06T14:17:29.094937Z",
     "iopub.status.idle": "2023-12-06T14:17:29.169861Z",
     "shell.execute_reply": "2023-12-06T14:17:29.168599Z"
    },
    "papermill": {
     "duration": 0.105109,
     "end_time": "2023-12-06T14:17:29.172632",
     "exception": false,
     "start_time": "2023-12-06T14:17:29.067523",
     "status": "completed"
    },
    "tags": []
   },
   "outputs": [
    {
     "data": {
      "text/html": [
       "<div>\n",
       "<style scoped>\n",
       "    .dataframe tbody tr th:only-of-type {\n",
       "        vertical-align: middle;\n",
       "    }\n",
       "\n",
       "    .dataframe tbody tr th {\n",
       "        vertical-align: top;\n",
       "    }\n",
       "\n",
       "    .dataframe thead th {\n",
       "        text-align: right;\n",
       "    }\n",
       "</style>\n",
       "<table border=\"1\" class=\"dataframe\">\n",
       "  <thead>\n",
       "    <tr style=\"text-align: right;\">\n",
       "      <th></th>\n",
       "      <th>product_id</th>\n",
       "      <th>order_id</th>\n",
       "      <th>jumlah_terjual</th>\n",
       "      <th>shipping_limit_date</th>\n",
       "      <th>product_category</th>\n",
       "    </tr>\n",
       "  </thead>\n",
       "  <tbody>\n",
       "    <tr>\n",
       "      <th>0</th>\n",
       "      <td>1e9e8ef04dbcff4541ed26657ea517e5</td>\n",
       "      <td>e17e4f88e31525f7deef66779844ddce</td>\n",
       "      <td>1</td>\n",
       "      <td>2018-04-30 17:33:54</td>\n",
       "      <td>perfumery</td>\n",
       "    </tr>\n",
       "    <tr>\n",
       "      <th>1</th>\n",
       "      <td>6a2fb4dd53d2cdb88e0432f1284a004c</td>\n",
       "      <td>048cc42e03ca8d43c729adf6962cb348</td>\n",
       "      <td>1</td>\n",
       "      <td>2017-11-23 21:31:31</td>\n",
       "      <td>perfumery</td>\n",
       "    </tr>\n",
       "    <tr>\n",
       "      <th>2</th>\n",
       "      <td>6a2fb4dd53d2cdb88e0432f1284a004c</td>\n",
       "      <td>5fa78e91b5cb84b6a8ccc42733f95742</td>\n",
       "      <td>1</td>\n",
       "      <td>2017-12-14 16:33:14</td>\n",
       "      <td>perfumery</td>\n",
       "    </tr>\n",
       "    <tr>\n",
       "      <th>3</th>\n",
       "      <td>0d009643171aee696f4733340bc2fdd0</td>\n",
       "      <td>24b1c4d88fdb7a2dc87f8ecc7d8f47f1</td>\n",
       "      <td>1</td>\n",
       "      <td>2017-08-03 09:50:14</td>\n",
       "      <td>perfumery</td>\n",
       "    </tr>\n",
       "    <tr>\n",
       "      <th>4</th>\n",
       "      <td>0d009643171aee696f4733340bc2fdd0</td>\n",
       "      <td>7b13c77c64a9a956500cbf1a9a23798d</td>\n",
       "      <td>1</td>\n",
       "      <td>2018-05-30 10:38:35</td>\n",
       "      <td>perfumery</td>\n",
       "    </tr>\n",
       "  </tbody>\n",
       "</table>\n",
       "</div>"
      ],
      "text/plain": [
       "                         product_id                          order_id  \\\n",
       "0  1e9e8ef04dbcff4541ed26657ea517e5  e17e4f88e31525f7deef66779844ddce   \n",
       "1  6a2fb4dd53d2cdb88e0432f1284a004c  048cc42e03ca8d43c729adf6962cb348   \n",
       "2  6a2fb4dd53d2cdb88e0432f1284a004c  5fa78e91b5cb84b6a8ccc42733f95742   \n",
       "3  0d009643171aee696f4733340bc2fdd0  24b1c4d88fdb7a2dc87f8ecc7d8f47f1   \n",
       "4  0d009643171aee696f4733340bc2fdd0  7b13c77c64a9a956500cbf1a9a23798d   \n",
       "\n",
       "   jumlah_terjual shipping_limit_date product_category  \n",
       "0               1 2018-04-30 17:33:54        perfumery  \n",
       "1               1 2017-11-23 21:31:31        perfumery  \n",
       "2               1 2017-12-14 16:33:14        perfumery  \n",
       "3               1 2017-08-03 09:50:14        perfumery  \n",
       "4               1 2018-05-30 10:38:35        perfumery  "
      ]
     },
     "execution_count": 41,
     "metadata": {},
     "output_type": "execute_result"
    }
   ],
   "source": [
    "# Menghapus kategori yang bahasa brazil\n",
    "kategori_info = kategori_info.drop('product_category_name',axis=1)\n",
    "\n",
    "# Mengubah nama kolom kategori dan order item id\n",
    "kategori_info = kategori_info.rename(columns={'product_category_name_english': 'product_category'})\n",
    "kategori_info = kategori_info.rename(columns={'order_item_id': 'jumlah_terjual'})\n",
    "\n",
    "kategori_info.head()"
   ]
  },
  {
   "cell_type": "markdown",
   "id": "e7bfbb53",
   "metadata": {
    "papermill": {
     "duration": 0.026802,
     "end_time": "2023-12-06T14:17:29.226206",
     "exception": false,
     "start_time": "2023-12-06T14:17:29.199404",
     "status": "completed"
    },
    "tags": []
   },
   "source": [
    "**Menentukan kategori dengan 5 penjualan teratas dan 5 penjualan terbawah**"
   ]
  },
  {
   "cell_type": "code",
   "execution_count": 42,
   "id": "15a9b62d",
   "metadata": {
    "execution": {
     "iopub.execute_input": "2023-12-06T14:17:29.282108Z",
     "iopub.status.busy": "2023-12-06T14:17:29.281613Z",
     "iopub.status.idle": "2023-12-06T14:17:29.298968Z",
     "shell.execute_reply": "2023-12-06T14:17:29.297661Z"
    },
    "papermill": {
     "duration": 0.047842,
     "end_time": "2023-12-06T14:17:29.301405",
     "exception": false,
     "start_time": "2023-12-06T14:17:29.253563",
     "status": "completed"
    },
    "tags": []
   },
   "outputs": [
    {
     "data": {
      "text/plain": [
       "product_category\n",
       "bed_bath_table               12718\n",
       "health_beauty                 9670\n",
       "sports_leisure                8641\n",
       "furniture_decor               8334\n",
       "computers_accessories         7827\n",
       "                             ...  \n",
       "arts_and_craftmanship           24\n",
       "la_cuisine                      14\n",
       "cds_dvds_musicals               14\n",
       "fashion_childrens_clothes        8\n",
       "security_and_services            2\n",
       "Name: count, Length: 71, dtype: int64"
      ]
     },
     "execution_count": 42,
     "metadata": {},
     "output_type": "execute_result"
    }
   ],
   "source": [
    "count_kategori = kategori_info['product_category'].value_counts()\n",
    "count_kategori"
   ]
  },
  {
   "cell_type": "code",
   "execution_count": 43,
   "id": "f35765ca",
   "metadata": {
    "execution": {
     "iopub.execute_input": "2023-12-06T14:17:29.356599Z",
     "iopub.status.busy": "2023-12-06T14:17:29.356147Z",
     "iopub.status.idle": "2023-12-06T14:17:29.368134Z",
     "shell.execute_reply": "2023-12-06T14:17:29.366853Z"
    },
    "papermill": {
     "duration": 0.042508,
     "end_time": "2023-12-06T14:17:29.370557",
     "exception": false,
     "start_time": "2023-12-06T14:17:29.328049",
     "status": "completed"
    },
    "tags": []
   },
   "outputs": [
    {
     "data": {
      "text/html": [
       "<div>\n",
       "<style scoped>\n",
       "    .dataframe tbody tr th:only-of-type {\n",
       "        vertical-align: middle;\n",
       "    }\n",
       "\n",
       "    .dataframe tbody tr th {\n",
       "        vertical-align: top;\n",
       "    }\n",
       "\n",
       "    .dataframe thead th {\n",
       "        text-align: right;\n",
       "    }\n",
       "</style>\n",
       "<table border=\"1\" class=\"dataframe\">\n",
       "  <thead>\n",
       "    <tr style=\"text-align: right;\">\n",
       "      <th></th>\n",
       "      <th>count</th>\n",
       "    </tr>\n",
       "    <tr>\n",
       "      <th>product_category</th>\n",
       "      <th></th>\n",
       "    </tr>\n",
       "  </thead>\n",
       "  <tbody>\n",
       "    <tr>\n",
       "      <th>bed_bath_table</th>\n",
       "      <td>12718</td>\n",
       "    </tr>\n",
       "    <tr>\n",
       "      <th>health_beauty</th>\n",
       "      <td>9670</td>\n",
       "    </tr>\n",
       "    <tr>\n",
       "      <th>sports_leisure</th>\n",
       "      <td>8641</td>\n",
       "    </tr>\n",
       "    <tr>\n",
       "      <th>furniture_decor</th>\n",
       "      <td>8334</td>\n",
       "    </tr>\n",
       "    <tr>\n",
       "      <th>computers_accessories</th>\n",
       "      <td>7827</td>\n",
       "    </tr>\n",
       "  </tbody>\n",
       "</table>\n",
       "</div>"
      ],
      "text/plain": [
       "                       count\n",
       "product_category            \n",
       "bed_bath_table         12718\n",
       "health_beauty           9670\n",
       "sports_leisure          8641\n",
       "furniture_decor         8334\n",
       "computers_accessories   7827"
      ]
     },
     "execution_count": 43,
     "metadata": {},
     "output_type": "execute_result"
    }
   ],
   "source": [
    "# Mencari 5 kategori teratas\n",
    "kategori_head = count_kategori.head(5)\n",
    "pd.DataFrame(kategori_head) "
   ]
  },
  {
   "cell_type": "code",
   "execution_count": 44,
   "id": "705fd106",
   "metadata": {
    "execution": {
     "iopub.execute_input": "2023-12-06T14:17:29.426960Z",
     "iopub.status.busy": "2023-12-06T14:17:29.426497Z",
     "iopub.status.idle": "2023-12-06T14:17:29.439447Z",
     "shell.execute_reply": "2023-12-06T14:17:29.438039Z"
    },
    "papermill": {
     "duration": 0.044625,
     "end_time": "2023-12-06T14:17:29.441952",
     "exception": false,
     "start_time": "2023-12-06T14:17:29.397327",
     "status": "completed"
    },
    "tags": []
   },
   "outputs": [
    {
     "data": {
      "text/html": [
       "<div>\n",
       "<style scoped>\n",
       "    .dataframe tbody tr th:only-of-type {\n",
       "        vertical-align: middle;\n",
       "    }\n",
       "\n",
       "    .dataframe tbody tr th {\n",
       "        vertical-align: top;\n",
       "    }\n",
       "\n",
       "    .dataframe thead th {\n",
       "        text-align: right;\n",
       "    }\n",
       "</style>\n",
       "<table border=\"1\" class=\"dataframe\">\n",
       "  <thead>\n",
       "    <tr style=\"text-align: right;\">\n",
       "      <th></th>\n",
       "      <th>count</th>\n",
       "    </tr>\n",
       "    <tr>\n",
       "      <th>product_category</th>\n",
       "      <th></th>\n",
       "    </tr>\n",
       "  </thead>\n",
       "  <tbody>\n",
       "    <tr>\n",
       "      <th>arts_and_craftmanship</th>\n",
       "      <td>24</td>\n",
       "    </tr>\n",
       "    <tr>\n",
       "      <th>la_cuisine</th>\n",
       "      <td>14</td>\n",
       "    </tr>\n",
       "    <tr>\n",
       "      <th>cds_dvds_musicals</th>\n",
       "      <td>14</td>\n",
       "    </tr>\n",
       "    <tr>\n",
       "      <th>fashion_childrens_clothes</th>\n",
       "      <td>8</td>\n",
       "    </tr>\n",
       "    <tr>\n",
       "      <th>security_and_services</th>\n",
       "      <td>2</td>\n",
       "    </tr>\n",
       "  </tbody>\n",
       "</table>\n",
       "</div>"
      ],
      "text/plain": [
       "                           count\n",
       "product_category                \n",
       "arts_and_craftmanship         24\n",
       "la_cuisine                    14\n",
       "cds_dvds_musicals             14\n",
       "fashion_childrens_clothes      8\n",
       "security_and_services          2"
      ]
     },
     "execution_count": 44,
     "metadata": {},
     "output_type": "execute_result"
    }
   ],
   "source": [
    "# Mencari 5 Kategori dengan penjualan paling sedikit\n",
    "kategori_tail = count_kategori.tail(5)\n",
    "pd.DataFrame(kategori_tail)"
   ]
  },
  {
   "cell_type": "markdown",
   "id": "48d2a4da",
   "metadata": {
    "papermill": {
     "duration": 0.026198,
     "end_time": "2023-12-06T14:17:29.494947",
     "exception": false,
     "start_time": "2023-12-06T14:17:29.468749",
     "status": "completed"
    },
    "tags": []
   },
   "source": [
    "**Menentukan trend penjualan kategori terlaris**"
   ]
  },
  {
   "cell_type": "code",
   "execution_count": 45,
   "id": "41dd40a5",
   "metadata": {
    "execution": {
     "iopub.execute_input": "2023-12-06T14:17:29.550087Z",
     "iopub.status.busy": "2023-12-06T14:17:29.549626Z",
     "iopub.status.idle": "2023-12-06T14:17:29.562011Z",
     "shell.execute_reply": "2023-12-06T14:17:29.560578Z"
    },
    "papermill": {
     "duration": 0.043094,
     "end_time": "2023-12-06T14:17:29.564680",
     "exception": false,
     "start_time": "2023-12-06T14:17:29.521586",
     "status": "completed"
    },
    "tags": []
   },
   "outputs": [
    {
     "data": {
      "text/html": [
       "<div>\n",
       "<style scoped>\n",
       "    .dataframe tbody tr th:only-of-type {\n",
       "        vertical-align: middle;\n",
       "    }\n",
       "\n",
       "    .dataframe tbody tr th {\n",
       "        vertical-align: top;\n",
       "    }\n",
       "\n",
       "    .dataframe thead th {\n",
       "        text-align: right;\n",
       "    }\n",
       "</style>\n",
       "<table border=\"1\" class=\"dataframe\">\n",
       "  <thead>\n",
       "    <tr style=\"text-align: right;\">\n",
       "      <th></th>\n",
       "      <th>count</th>\n",
       "    </tr>\n",
       "    <tr>\n",
       "      <th>product_category</th>\n",
       "      <th></th>\n",
       "    </tr>\n",
       "  </thead>\n",
       "  <tbody>\n",
       "    <tr>\n",
       "      <th>bed_bath_table</th>\n",
       "      <td>12718</td>\n",
       "    </tr>\n",
       "    <tr>\n",
       "      <th>health_beauty</th>\n",
       "      <td>9670</td>\n",
       "    </tr>\n",
       "    <tr>\n",
       "      <th>sports_leisure</th>\n",
       "      <td>8641</td>\n",
       "    </tr>\n",
       "    <tr>\n",
       "      <th>furniture_decor</th>\n",
       "      <td>8334</td>\n",
       "    </tr>\n",
       "    <tr>\n",
       "      <th>computers_accessories</th>\n",
       "      <td>7827</td>\n",
       "    </tr>\n",
       "  </tbody>\n",
       "</table>\n",
       "</div>"
      ],
      "text/plain": [
       "                       count\n",
       "product_category            \n",
       "bed_bath_table         12718\n",
       "health_beauty           9670\n",
       "sports_leisure          8641\n",
       "furniture_decor         8334\n",
       "computers_accessories   7827"
      ]
     },
     "execution_count": 45,
     "metadata": {},
     "output_type": "execute_result"
    }
   ],
   "source": [
    "top_five = count_kategori.head(5)\n",
    "top_five = pd.DataFrame(top_five)\n",
    "top_five"
   ]
  },
  {
   "cell_type": "code",
   "execution_count": 46,
   "id": "a4f5a756",
   "metadata": {
    "execution": {
     "iopub.execute_input": "2023-12-06T14:17:29.624770Z",
     "iopub.status.busy": "2023-12-06T14:17:29.624274Z",
     "iopub.status.idle": "2023-12-06T14:17:29.688528Z",
     "shell.execute_reply": "2023-12-06T14:17:29.686846Z"
    },
    "papermill": {
     "duration": 0.098119,
     "end_time": "2023-12-06T14:17:29.691414",
     "exception": false,
     "start_time": "2023-12-06T14:17:29.593295",
     "status": "completed"
    },
    "tags": []
   },
   "outputs": [],
   "source": [
    "# Filter data untuk kategori paling banyak terjual\n",
    "\n",
    "kategori_terlaris_1 = top_five.index[0]\n",
    "kategori_terlaris_1 = kategori_info[kategori_info['product_category'] == kategori_terlaris_1]\n",
    "\n",
    "kategori_terlaris_2 = top_five.index[1]\n",
    "kategori_terlaris_2 = kategori_info[kategori_info['product_category'] == kategori_terlaris_2]\n",
    "\n",
    "kategori_terlaris_3 = top_five.index[2]\n",
    "kategori_terlaris_3 = kategori_info[kategori_info['product_category'] == kategori_terlaris_3]\n",
    "\n",
    "kategori_terlaris_4 = top_five.index[3]\n",
    "kategori_terlaris_4 = kategori_info[kategori_info['product_category'] == kategori_terlaris_4]\n",
    "\n",
    "kategori_terlaris_5 = top_five.index[4]\n",
    "kategori_terlaris_5 = kategori_info[kategori_info['product_category'] == kategori_terlaris_5]"
   ]
  },
  {
   "cell_type": "code",
   "execution_count": 47,
   "id": "ff875354",
   "metadata": {
    "execution": {
     "iopub.execute_input": "2023-12-06T14:17:29.751374Z",
     "iopub.status.busy": "2023-12-06T14:17:29.750878Z",
     "iopub.status.idle": "2023-12-06T14:17:29.776528Z",
     "shell.execute_reply": "2023-12-06T14:17:29.775555Z"
    },
    "papermill": {
     "duration": 0.059204,
     "end_time": "2023-12-06T14:17:29.779584",
     "exception": false,
     "start_time": "2023-12-06T14:17:29.720380",
     "status": "completed"
    },
    "tags": []
   },
   "outputs": [
    {
     "name": "stderr",
     "output_type": "stream",
     "text": [
      "/tmp/ipykernel_19/1820721927.py:3: SettingWithCopyWarning: \n",
      "A value is trying to be set on a copy of a slice from a DataFrame.\n",
      "Try using .loc[row_indexer,col_indexer] = value instead\n",
      "\n",
      "See the caveats in the documentation: https://pandas.pydata.org/pandas-docs/stable/user_guide/indexing.html#returning-a-view-versus-a-copy\n",
      "  kategori_terlaris_1.loc[:, 'month_year'] = kategori_terlaris_1['shipping_limit_date'].dt.to_period('Y')\n",
      "/tmp/ipykernel_19/1820721927.py:4: SettingWithCopyWarning: \n",
      "A value is trying to be set on a copy of a slice from a DataFrame.\n",
      "Try using .loc[row_indexer,col_indexer] = value instead\n",
      "\n",
      "See the caveats in the documentation: https://pandas.pydata.org/pandas-docs/stable/user_guide/indexing.html#returning-a-view-versus-a-copy\n",
      "  kategori_terlaris_2.loc[:, 'month_year'] = kategori_terlaris_2['shipping_limit_date'].dt.to_period('Y')\n",
      "/tmp/ipykernel_19/1820721927.py:5: SettingWithCopyWarning: \n",
      "A value is trying to be set on a copy of a slice from a DataFrame.\n",
      "Try using .loc[row_indexer,col_indexer] = value instead\n",
      "\n",
      "See the caveats in the documentation: https://pandas.pydata.org/pandas-docs/stable/user_guide/indexing.html#returning-a-view-versus-a-copy\n",
      "  kategori_terlaris_3.loc[:, 'month_year'] = kategori_terlaris_3['shipping_limit_date'].dt.to_period('Y')\n",
      "/tmp/ipykernel_19/1820721927.py:6: SettingWithCopyWarning: \n",
      "A value is trying to be set on a copy of a slice from a DataFrame.\n",
      "Try using .loc[row_indexer,col_indexer] = value instead\n",
      "\n",
      "See the caveats in the documentation: https://pandas.pydata.org/pandas-docs/stable/user_guide/indexing.html#returning-a-view-versus-a-copy\n",
      "  kategori_terlaris_4.loc[:, 'month_year'] = kategori_terlaris_4['shipping_limit_date'].dt.to_period('Y')\n",
      "/tmp/ipykernel_19/1820721927.py:7: SettingWithCopyWarning: \n",
      "A value is trying to be set on a copy of a slice from a DataFrame.\n",
      "Try using .loc[row_indexer,col_indexer] = value instead\n",
      "\n",
      "See the caveats in the documentation: https://pandas.pydata.org/pandas-docs/stable/user_guide/indexing.html#returning-a-view-versus-a-copy\n",
      "  kategori_terlaris_5.loc[:, 'month_year'] = kategori_terlaris_5['shipping_limit_date'].dt.to_period('Y')\n"
     ]
    }
   ],
   "source": [
    "# Buat kolom 'month_year' untuk menyimpan bulan dan tahun menggunakan .loc[]\n",
    "\n",
    "kategori_terlaris_1.loc[:, 'month_year'] = kategori_terlaris_1['shipping_limit_date'].dt.to_period('Y')\n",
    "kategori_terlaris_2.loc[:, 'month_year'] = kategori_terlaris_2['shipping_limit_date'].dt.to_period('Y')\n",
    "kategori_terlaris_3.loc[:, 'month_year'] = kategori_terlaris_3['shipping_limit_date'].dt.to_period('Y')\n",
    "kategori_terlaris_4.loc[:, 'month_year'] = kategori_terlaris_4['shipping_limit_date'].dt.to_period('Y')\n",
    "kategori_terlaris_5.loc[:, 'month_year'] = kategori_terlaris_5['shipping_limit_date'].dt.to_period('Y')"
   ]
  },
  {
   "cell_type": "code",
   "execution_count": 48,
   "id": "3753e0b6",
   "metadata": {
    "execution": {
     "iopub.execute_input": "2023-12-06T14:17:29.839328Z",
     "iopub.status.busy": "2023-12-06T14:17:29.838858Z",
     "iopub.status.idle": "2023-12-06T14:17:29.850643Z",
     "shell.execute_reply": "2023-12-06T14:17:29.849294Z"
    },
    "papermill": {
     "duration": 0.044791,
     "end_time": "2023-12-06T14:17:29.853139",
     "exception": false,
     "start_time": "2023-12-06T14:17:29.808348",
     "status": "completed"
    },
    "tags": []
   },
   "outputs": [
    {
     "data": {
      "text/plain": [
       "month_year\n",
       "2016      10\n",
       "2017    5991\n",
       "2018    6717\n",
       "Freq: A-DEC, Name: jumlah_terjual, dtype: int64"
      ]
     },
     "execution_count": 48,
     "metadata": {},
     "output_type": "execute_result"
    }
   ],
   "source": [
    "# trend penjualan top 1 ketegori\n",
    "\n",
    "sales_kategory1_trend = kategori_terlaris_1.groupby('month_year')['jumlah_terjual'].count()\n",
    "sales_kategory1_trend"
   ]
  },
  {
   "cell_type": "code",
   "execution_count": 49,
   "id": "acf0560a",
   "metadata": {
    "execution": {
     "iopub.execute_input": "2023-12-06T14:17:29.916425Z",
     "iopub.status.busy": "2023-12-06T14:17:29.915053Z",
     "iopub.status.idle": "2023-12-06T14:17:29.927621Z",
     "shell.execute_reply": "2023-12-06T14:17:29.926261Z"
    },
    "papermill": {
     "duration": 0.046636,
     "end_time": "2023-12-06T14:17:29.930526",
     "exception": false,
     "start_time": "2023-12-06T14:17:29.883890",
     "status": "completed"
    },
    "tags": []
   },
   "outputs": [
    {
     "data": {
      "text/plain": [
       "month_year\n",
       "2016      51\n",
       "2017    3590\n",
       "2018    6029\n",
       "Freq: A-DEC, Name: jumlah_terjual, dtype: int64"
      ]
     },
     "execution_count": 49,
     "metadata": {},
     "output_type": "execute_result"
    }
   ],
   "source": [
    "# trend penjualan top 2 kategori\n",
    "\n",
    "sales_kategory2_trend = kategori_terlaris_2.groupby('month_year')['jumlah_terjual'].count()\n",
    "sales_kategory2_trend"
   ]
  },
  {
   "cell_type": "code",
   "execution_count": 50,
   "id": "67cf23fb",
   "metadata": {
    "execution": {
     "iopub.execute_input": "2023-12-06T14:17:29.989443Z",
     "iopub.status.busy": "2023-12-06T14:17:29.988919Z",
     "iopub.status.idle": "2023-12-06T14:17:29.999868Z",
     "shell.execute_reply": "2023-12-06T14:17:29.998777Z"
    },
    "papermill": {
     "duration": 0.044308,
     "end_time": "2023-12-06T14:17:30.002264",
     "exception": false,
     "start_time": "2023-12-06T14:17:29.957956",
     "status": "completed"
    },
    "tags": []
   },
   "outputs": [
    {
     "data": {
      "text/plain": [
       "month_year\n",
       "2016      19\n",
       "2017    4038\n",
       "2018    4584\n",
       "Freq: A-DEC, Name: jumlah_terjual, dtype: int64"
      ]
     },
     "execution_count": 50,
     "metadata": {},
     "output_type": "execute_result"
    }
   ],
   "source": [
    "# trend penjualan top 3 kategori\n",
    "\n",
    "sales_kategory3_trend = kategori_terlaris_3.groupby('month_year')['jumlah_terjual'].count()\n",
    "sales_kategory3_trend"
   ]
  },
  {
   "cell_type": "code",
   "execution_count": 51,
   "id": "3b8def7e",
   "metadata": {
    "execution": {
     "iopub.execute_input": "2023-12-06T14:17:30.062243Z",
     "iopub.status.busy": "2023-12-06T14:17:30.061402Z",
     "iopub.status.idle": "2023-12-06T14:17:30.072129Z",
     "shell.execute_reply": "2023-12-06T14:17:30.070977Z"
    },
    "papermill": {
     "duration": 0.042326,
     "end_time": "2023-12-06T14:17:30.074769",
     "exception": false,
     "start_time": "2023-12-06T14:17:30.032443",
     "status": "completed"
    },
    "tags": []
   },
   "outputs": [
    {
     "data": {
      "text/plain": [
       "month_year\n",
       "2016      69\n",
       "2017    4058\n",
       "2018    4207\n",
       "Freq: A-DEC, Name: jumlah_terjual, dtype: int64"
      ]
     },
     "execution_count": 51,
     "metadata": {},
     "output_type": "execute_result"
    }
   ],
   "source": [
    "# trend penjualan top 4 kategori\n",
    "\n",
    "sales_kategory4_trend = kategori_terlaris_4.groupby('month_year')['jumlah_terjual'].count()\n",
    "sales_kategory4_trend"
   ]
  },
  {
   "cell_type": "code",
   "execution_count": 52,
   "id": "f38110ae",
   "metadata": {
    "execution": {
     "iopub.execute_input": "2023-12-06T14:17:30.134639Z",
     "iopub.status.busy": "2023-12-06T14:17:30.134139Z",
     "iopub.status.idle": "2023-12-06T14:17:30.146664Z",
     "shell.execute_reply": "2023-12-06T14:17:30.145411Z"
    },
    "papermill": {
     "duration": 0.045691,
     "end_time": "2023-12-06T14:17:30.149161",
     "exception": false,
     "start_time": "2023-12-06T14:17:30.103470",
     "status": "completed"
    },
    "tags": []
   },
   "outputs": [
    {
     "data": {
      "text/plain": [
       "month_year\n",
       "2016      21\n",
       "2017    3042\n",
       "2018    4764\n",
       "Freq: A-DEC, Name: jumlah_terjual, dtype: int64"
      ]
     },
     "execution_count": 52,
     "metadata": {},
     "output_type": "execute_result"
    }
   ],
   "source": [
    "# trend penjualan top 5 kategori\n",
    "\n",
    "sales_kategory5_trend = kategori_terlaris_5.groupby('month_year')['jumlah_terjual'].count()\n",
    "sales_kategory5_trend"
   ]
  },
  {
   "cell_type": "markdown",
   "id": "cee96a89",
   "metadata": {
    "papermill": {
     "duration": 0.027235,
     "end_time": "2023-12-06T14:17:30.204716",
     "exception": false,
     "start_time": "2023-12-06T14:17:30.177481",
     "status": "completed"
    },
    "tags": []
   },
   "source": [
    "## Explore Tabel `df_order_item` & `df_orders`"
   ]
  },
  {
   "cell_type": "markdown",
   "id": "9c3281f1",
   "metadata": {
    "papermill": {
     "duration": 0.028242,
     "end_time": "2023-12-06T14:17:30.260771",
     "exception": false,
     "start_time": "2023-12-06T14:17:30.232529",
     "status": "completed"
    },
    "tags": []
   },
   "source": [
    "**Mencari kategori order status**"
   ]
  },
  {
   "cell_type": "code",
   "execution_count": 53,
   "id": "dcf66b26",
   "metadata": {
    "execution": {
     "iopub.execute_input": "2023-12-06T14:17:30.318481Z",
     "iopub.status.busy": "2023-12-06T14:17:30.317988Z",
     "iopub.status.idle": "2023-12-06T14:17:30.527439Z",
     "shell.execute_reply": "2023-12-06T14:17:30.526133Z"
    },
    "papermill": {
     "duration": 0.241237,
     "end_time": "2023-12-06T14:17:30.530144",
     "exception": false,
     "start_time": "2023-12-06T14:17:30.288907",
     "status": "completed"
    },
    "tags": []
   },
   "outputs": [
    {
     "data": {
      "text/html": [
       "<div>\n",
       "<style scoped>\n",
       "    .dataframe tbody tr th:only-of-type {\n",
       "        vertical-align: middle;\n",
       "    }\n",
       "\n",
       "    .dataframe tbody tr th {\n",
       "        vertical-align: top;\n",
       "    }\n",
       "\n",
       "    .dataframe thead th {\n",
       "        text-align: right;\n",
       "    }\n",
       "</style>\n",
       "<table border=\"1\" class=\"dataframe\">\n",
       "  <thead>\n",
       "    <tr style=\"text-align: right;\">\n",
       "      <th></th>\n",
       "      <th>order_id</th>\n",
       "      <th>product_category</th>\n",
       "      <th>order_status</th>\n",
       "    </tr>\n",
       "  </thead>\n",
       "  <tbody>\n",
       "    <tr>\n",
       "      <th>0</th>\n",
       "      <td>e17e4f88e31525f7deef66779844ddce</td>\n",
       "      <td>perfumery</td>\n",
       "      <td>delivered</td>\n",
       "    </tr>\n",
       "    <tr>\n",
       "      <th>1</th>\n",
       "      <td>048cc42e03ca8d43c729adf6962cb348</td>\n",
       "      <td>perfumery</td>\n",
       "      <td>delivered</td>\n",
       "    </tr>\n",
       "    <tr>\n",
       "      <th>2</th>\n",
       "      <td>5fa78e91b5cb84b6a8ccc42733f95742</td>\n",
       "      <td>perfumery</td>\n",
       "      <td>delivered</td>\n",
       "    </tr>\n",
       "    <tr>\n",
       "      <th>3</th>\n",
       "      <td>24b1c4d88fdb7a2dc87f8ecc7d8f47f1</td>\n",
       "      <td>perfumery</td>\n",
       "      <td>delivered</td>\n",
       "    </tr>\n",
       "    <tr>\n",
       "      <th>4</th>\n",
       "      <td>7b13c77c64a9a956500cbf1a9a23798d</td>\n",
       "      <td>perfumery</td>\n",
       "      <td>delivered</td>\n",
       "    </tr>\n",
       "    <tr>\n",
       "      <th>...</th>\n",
       "      <td>...</td>\n",
       "      <td>...</td>\n",
       "      <td>...</td>\n",
       "    </tr>\n",
       "    <tr>\n",
       "      <th>110153</th>\n",
       "      <td>7ed69fbc79fbda50e09caa9c127026e5</td>\n",
       "      <td>cds_dvds_musicals</td>\n",
       "      <td>delivered</td>\n",
       "    </tr>\n",
       "    <tr>\n",
       "      <th>110154</th>\n",
       "      <td>9c782cb7854e5dfa91927cfca8949eb8</td>\n",
       "      <td>cds_dvds_musicals</td>\n",
       "      <td>delivered</td>\n",
       "    </tr>\n",
       "    <tr>\n",
       "      <th>110155</th>\n",
       "      <td>cea54c1853c864ab36cea3ef732d7191</td>\n",
       "      <td>cds_dvds_musicals</td>\n",
       "      <td>delivered</td>\n",
       "    </tr>\n",
       "    <tr>\n",
       "      <th>110156</th>\n",
       "      <td>d4e8d3bb5e3673ed68ac154fe86de946</td>\n",
       "      <td>cds_dvds_musicals</td>\n",
       "      <td>delivered</td>\n",
       "    </tr>\n",
       "    <tr>\n",
       "      <th>110157</th>\n",
       "      <td>ffc4072a9ea36a3341efa25b69c449eb</td>\n",
       "      <td>cds_dvds_musicals</td>\n",
       "      <td>delivered</td>\n",
       "    </tr>\n",
       "  </tbody>\n",
       "</table>\n",
       "<p>110158 rows × 3 columns</p>\n",
       "</div>"
      ],
      "text/plain": [
       "                                order_id   product_category order_status\n",
       "0       e17e4f88e31525f7deef66779844ddce          perfumery    delivered\n",
       "1       048cc42e03ca8d43c729adf6962cb348          perfumery    delivered\n",
       "2       5fa78e91b5cb84b6a8ccc42733f95742          perfumery    delivered\n",
       "3       24b1c4d88fdb7a2dc87f8ecc7d8f47f1          perfumery    delivered\n",
       "4       7b13c77c64a9a956500cbf1a9a23798d          perfumery    delivered\n",
       "...                                  ...                ...          ...\n",
       "110153  7ed69fbc79fbda50e09caa9c127026e5  cds_dvds_musicals    delivered\n",
       "110154  9c782cb7854e5dfa91927cfca8949eb8  cds_dvds_musicals    delivered\n",
       "110155  cea54c1853c864ab36cea3ef732d7191  cds_dvds_musicals    delivered\n",
       "110156  d4e8d3bb5e3673ed68ac154fe86de946  cds_dvds_musicals    delivered\n",
       "110157  ffc4072a9ea36a3341efa25b69c449eb  cds_dvds_musicals    delivered\n",
       "\n",
       "[110158 rows x 3 columns]"
      ]
     },
     "execution_count": 53,
     "metadata": {},
     "output_type": "execute_result"
    }
   ],
   "source": [
    "kategori_status = pd.merge(kategori_info[['order_id','product_category']],df_orders[['order_id','order_status']], on='order_id', how='inner')\n",
    "kategori_status"
   ]
  },
  {
   "cell_type": "code",
   "execution_count": 54,
   "id": "ccaadfd3",
   "metadata": {
    "execution": {
     "iopub.execute_input": "2023-12-06T14:17:30.590759Z",
     "iopub.status.busy": "2023-12-06T14:17:30.590298Z",
     "iopub.status.idle": "2023-12-06T14:17:30.611589Z",
     "shell.execute_reply": "2023-12-06T14:17:30.610510Z"
    },
    "papermill": {
     "duration": 0.053858,
     "end_time": "2023-12-06T14:17:30.613902",
     "exception": false,
     "start_time": "2023-12-06T14:17:30.560044",
     "status": "completed"
    },
    "tags": []
   },
   "outputs": [
    {
     "data": {
      "text/html": [
       "<div>\n",
       "<style scoped>\n",
       "    .dataframe tbody tr th:only-of-type {\n",
       "        vertical-align: middle;\n",
       "    }\n",
       "\n",
       "    .dataframe tbody tr th {\n",
       "        vertical-align: top;\n",
       "    }\n",
       "\n",
       "    .dataframe thead th {\n",
       "        text-align: right;\n",
       "    }\n",
       "</style>\n",
       "<table border=\"1\" class=\"dataframe\">\n",
       "  <thead>\n",
       "    <tr style=\"text-align: right;\">\n",
       "      <th></th>\n",
       "      <th>count</th>\n",
       "    </tr>\n",
       "    <tr>\n",
       "      <th>order_status</th>\n",
       "      <th></th>\n",
       "    </tr>\n",
       "  </thead>\n",
       "  <tbody>\n",
       "    <tr>\n",
       "      <th>delivered</th>\n",
       "      <td>110151</td>\n",
       "    </tr>\n",
       "    <tr>\n",
       "      <th>canceled</th>\n",
       "      <td>7</td>\n",
       "    </tr>\n",
       "  </tbody>\n",
       "</table>\n",
       "</div>"
      ],
      "text/plain": [
       "               count\n",
       "order_status        \n",
       "delivered     110151\n",
       "canceled           7"
      ]
     },
     "execution_count": 54,
     "metadata": {},
     "output_type": "execute_result"
    }
   ],
   "source": [
    "kategori_count = kategori_status['order_status'].value_counts()\n",
    "pd.DataFrame(kategori_count)"
   ]
  },
  {
   "cell_type": "code",
   "execution_count": 55,
   "id": "56661c33",
   "metadata": {
    "execution": {
     "iopub.execute_input": "2023-12-06T14:17:30.673817Z",
     "iopub.status.busy": "2023-12-06T14:17:30.672495Z",
     "iopub.status.idle": "2023-12-06T14:17:30.700464Z",
     "shell.execute_reply": "2023-12-06T14:17:30.699062Z"
    },
    "papermill": {
     "duration": 0.061547,
     "end_time": "2023-12-06T14:17:30.703918",
     "exception": false,
     "start_time": "2023-12-06T14:17:30.642371",
     "status": "completed"
    },
    "tags": []
   },
   "outputs": [
    {
     "data": {
      "text/html": [
       "<div>\n",
       "<style scoped>\n",
       "    .dataframe tbody tr th:only-of-type {\n",
       "        vertical-align: middle;\n",
       "    }\n",
       "\n",
       "    .dataframe tbody tr th {\n",
       "        vertical-align: top;\n",
       "    }\n",
       "\n",
       "    .dataframe thead th {\n",
       "        text-align: right;\n",
       "    }\n",
       "</style>\n",
       "<table border=\"1\" class=\"dataframe\">\n",
       "  <thead>\n",
       "    <tr style=\"text-align: right;\">\n",
       "      <th></th>\n",
       "      <th></th>\n",
       "      <th>count</th>\n",
       "    </tr>\n",
       "    <tr>\n",
       "      <th>product_category</th>\n",
       "      <th>order_status</th>\n",
       "      <th></th>\n",
       "    </tr>\n",
       "  </thead>\n",
       "  <tbody>\n",
       "    <tr>\n",
       "      <th>health_beauty</th>\n",
       "      <th>canceled</th>\n",
       "      <td>2</td>\n",
       "    </tr>\n",
       "    <tr>\n",
       "      <th>perfumery</th>\n",
       "      <th>canceled</th>\n",
       "      <td>2</td>\n",
       "    </tr>\n",
       "    <tr>\n",
       "      <th>fashion_bags_accessories</th>\n",
       "      <th>canceled</th>\n",
       "      <td>1</td>\n",
       "    </tr>\n",
       "    <tr>\n",
       "      <th>sports_leisure</th>\n",
       "      <th>canceled</th>\n",
       "      <td>1</td>\n",
       "    </tr>\n",
       "    <tr>\n",
       "      <th>toys</th>\n",
       "      <th>canceled</th>\n",
       "      <td>1</td>\n",
       "    </tr>\n",
       "  </tbody>\n",
       "</table>\n",
       "</div>"
      ],
      "text/plain": [
       "                                       count\n",
       "product_category         order_status       \n",
       "health_beauty            canceled          2\n",
       "perfumery                canceled          2\n",
       "fashion_bags_accessories canceled          1\n",
       "sports_leisure           canceled          1\n",
       "toys                     canceled          1"
      ]
     },
     "execution_count": 55,
     "metadata": {},
     "output_type": "execute_result"
    }
   ],
   "source": [
    "kategori_batal = kategori_status[kategori_status['order_status'] == 'canceled']\n",
    "pd.DataFrame(kategori_batal[['product_category','order_status']].value_counts())"
   ]
  },
  {
   "cell_type": "markdown",
   "id": "e250c835",
   "metadata": {
    "papermill": {
     "duration": 0.028354,
     "end_time": "2023-12-06T14:17:30.763938",
     "exception": false,
     "start_time": "2023-12-06T14:17:30.735584",
     "status": "completed"
    },
    "tags": []
   },
   "source": [
    "## Explore Tabel `customer_df`"
   ]
  },
  {
   "cell_type": "markdown",
   "id": "beeb5efd",
   "metadata": {
    "papermill": {
     "duration": 0.027778,
     "end_time": "2023-12-06T14:17:30.820495",
     "exception": false,
     "start_time": "2023-12-06T14:17:30.792717",
     "status": "completed"
    },
    "tags": []
   },
   "source": [
    "**Mencari Kota dengan pembeli yang paling banyak order**"
   ]
  },
  {
   "cell_type": "code",
   "execution_count": 56,
   "id": "e80251d5",
   "metadata": {
    "execution": {
     "iopub.execute_input": "2023-12-06T14:17:30.881083Z",
     "iopub.status.busy": "2023-12-06T14:17:30.880584Z",
     "iopub.status.idle": "2023-12-06T14:17:30.899412Z",
     "shell.execute_reply": "2023-12-06T14:17:30.897933Z"
    },
    "papermill": {
     "duration": 0.051351,
     "end_time": "2023-12-06T14:17:30.901996",
     "exception": false,
     "start_time": "2023-12-06T14:17:30.850645",
     "status": "completed"
    },
    "tags": []
   },
   "outputs": [
    {
     "data": {
      "text/plain": [
       "customer_city\n",
       "sao paulo         15540\n",
       "rio de janeiro     6882\n",
       "belo horizonte     2773\n",
       "brasilia           2131\n",
       "curitiba           1521\n",
       "Name: count, dtype: int64"
      ]
     },
     "execution_count": 56,
     "metadata": {},
     "output_type": "execute_result"
    }
   ],
   "source": [
    "df_customer['customer_city'].value_counts().head(5)"
   ]
  },
  {
   "cell_type": "code",
   "execution_count": 57,
   "id": "7983de25",
   "metadata": {
    "execution": {
     "iopub.execute_input": "2023-12-06T14:17:30.964926Z",
     "iopub.status.busy": "2023-12-06T14:17:30.963422Z",
     "iopub.status.idle": "2023-12-06T14:17:31.197883Z",
     "shell.execute_reply": "2023-12-06T14:17:31.196040Z"
    },
    "papermill": {
     "duration": 0.267687,
     "end_time": "2023-12-06T14:17:31.200700",
     "exception": false,
     "start_time": "2023-12-06T14:17:30.933013",
     "status": "completed"
    },
    "tags": []
   },
   "outputs": [
    {
     "data": {
      "text/html": [
       "<div>\n",
       "<style scoped>\n",
       "    .dataframe tbody tr th:only-of-type {\n",
       "        vertical-align: middle;\n",
       "    }\n",
       "\n",
       "    .dataframe tbody tr th {\n",
       "        vertical-align: top;\n",
       "    }\n",
       "\n",
       "    .dataframe thead th {\n",
       "        text-align: right;\n",
       "    }\n",
       "</style>\n",
       "<table border=\"1\" class=\"dataframe\">\n",
       "  <thead>\n",
       "    <tr style=\"text-align: right;\">\n",
       "      <th></th>\n",
       "      <th>customer_id</th>\n",
       "      <th>customer_unique_id</th>\n",
       "      <th>customer_city</th>\n",
       "      <th>order_id</th>\n",
       "      <th>order_status</th>\n",
       "    </tr>\n",
       "  </thead>\n",
       "  <tbody>\n",
       "    <tr>\n",
       "      <th>0</th>\n",
       "      <td>06b8999e2fba1a1fbc88172c00ba8bc7</td>\n",
       "      <td>861eff4711a542e4b93843c6dd7febb0</td>\n",
       "      <td>franca</td>\n",
       "      <td>00e7ee1b050b8499577073aeb2a297a1</td>\n",
       "      <td>delivered</td>\n",
       "    </tr>\n",
       "    <tr>\n",
       "      <th>1</th>\n",
       "      <td>18955e83d337fd6b2def6b18a428ac77</td>\n",
       "      <td>290c77bc529b7ac935b93aa66c333dc3</td>\n",
       "      <td>sao bernardo do campo</td>\n",
       "      <td>29150127e6685892b6eab3eec79f59c7</td>\n",
       "      <td>delivered</td>\n",
       "    </tr>\n",
       "    <tr>\n",
       "      <th>2</th>\n",
       "      <td>4e7b3e00288586ebd08712fdd0374a03</td>\n",
       "      <td>060e732b5b29e8181a18229c7b0b2b5e</td>\n",
       "      <td>sao paulo</td>\n",
       "      <td>b2059ed67ce144a36e2aa97d2c9e9ad2</td>\n",
       "      <td>delivered</td>\n",
       "    </tr>\n",
       "    <tr>\n",
       "      <th>3</th>\n",
       "      <td>b2b6027bc5c5109e529d4dc6358b12c3</td>\n",
       "      <td>259dac757896d24d7702b9acbbff3f3c</td>\n",
       "      <td>mogi das cruzes</td>\n",
       "      <td>951670f92359f4fe4a63112aa7306eba</td>\n",
       "      <td>delivered</td>\n",
       "    </tr>\n",
       "    <tr>\n",
       "      <th>4</th>\n",
       "      <td>4f2d8ab171c80ec8364f7c12e35b23ad</td>\n",
       "      <td>345ecd01c38d18a9036ed96c73b8d066</td>\n",
       "      <td>campinas</td>\n",
       "      <td>6b7d50bd145f6fc7f33cebabd7e49d0f</td>\n",
       "      <td>delivered</td>\n",
       "    </tr>\n",
       "  </tbody>\n",
       "</table>\n",
       "</div>"
      ],
      "text/plain": [
       "                        customer_id                customer_unique_id  \\\n",
       "0  06b8999e2fba1a1fbc88172c00ba8bc7  861eff4711a542e4b93843c6dd7febb0   \n",
       "1  18955e83d337fd6b2def6b18a428ac77  290c77bc529b7ac935b93aa66c333dc3   \n",
       "2  4e7b3e00288586ebd08712fdd0374a03  060e732b5b29e8181a18229c7b0b2b5e   \n",
       "3  b2b6027bc5c5109e529d4dc6358b12c3  259dac757896d24d7702b9acbbff3f3c   \n",
       "4  4f2d8ab171c80ec8364f7c12e35b23ad  345ecd01c38d18a9036ed96c73b8d066   \n",
       "\n",
       "           customer_city                          order_id order_status  \n",
       "0                 franca  00e7ee1b050b8499577073aeb2a297a1    delivered  \n",
       "1  sao bernardo do campo  29150127e6685892b6eab3eec79f59c7    delivered  \n",
       "2              sao paulo  b2059ed67ce144a36e2aa97d2c9e9ad2    delivered  \n",
       "3        mogi das cruzes  951670f92359f4fe4a63112aa7306eba    delivered  \n",
       "4               campinas  6b7d50bd145f6fc7f33cebabd7e49d0f    delivered  "
      ]
     },
     "execution_count": 57,
     "metadata": {},
     "output_type": "execute_result"
    }
   ],
   "source": [
    "customer_info = pd.merge(\n",
    "    df_customer[['customer_id', 'customer_unique_id','customer_city']],\n",
    "    df_orders[['order_id', 'customer_id', 'order_status']],\n",
    "    on='customer_id',\n",
    "    how='inner'\n",
    ")\n",
    "customer_info.head()"
   ]
  },
  {
   "cell_type": "code",
   "execution_count": 58,
   "id": "d7a44f03",
   "metadata": {
    "execution": {
     "iopub.execute_input": "2023-12-06T14:17:31.262212Z",
     "iopub.status.busy": "2023-12-06T14:17:31.261745Z",
     "iopub.status.idle": "2023-12-06T14:17:31.279248Z",
     "shell.execute_reply": "2023-12-06T14:17:31.277588Z"
    },
    "papermill": {
     "duration": 0.051464,
     "end_time": "2023-12-06T14:17:31.281951",
     "exception": false,
     "start_time": "2023-12-06T14:17:31.230487",
     "status": "completed"
    },
    "tags": []
   },
   "outputs": [
    {
     "data": {
      "text/plain": [
       "customer_city\n",
       "sao paulo         15044\n",
       "rio de janeiro     6603\n",
       "belo horizonte     2697\n",
       "brasilia           2071\n",
       "curitiba           1489\n",
       "Name: count, dtype: int64"
      ]
     },
     "execution_count": 58,
     "metadata": {},
     "output_type": "execute_result"
    }
   ],
   "source": [
    "customer_city = customer_info['customer_city'].value_counts().head(5)\n",
    "customer_city"
   ]
  },
  {
   "cell_type": "markdown",
   "id": "77fd9894",
   "metadata": {
    "papermill": {
     "duration": 0.030885,
     "end_time": "2023-12-06T14:17:31.342508",
     "exception": false,
     "start_time": "2023-12-06T14:17:31.311623",
     "status": "completed"
    },
    "tags": []
   },
   "source": [
    "## Explore Tabel `df_seller`"
   ]
  },
  {
   "cell_type": "markdown",
   "id": "be0b5db1",
   "metadata": {
    "papermill": {
     "duration": 0.028567,
     "end_time": "2023-12-06T14:17:31.400566",
     "exception": false,
     "start_time": "2023-12-06T14:17:31.371999",
     "status": "completed"
    },
    "tags": []
   },
   "source": [
    "**Mencari 5 Kota dengan penjual terbanyak**"
   ]
  },
  {
   "cell_type": "code",
   "execution_count": 59,
   "id": "3b754d0d",
   "metadata": {
    "execution": {
     "iopub.execute_input": "2023-12-06T14:17:31.464934Z",
     "iopub.status.busy": "2023-12-06T14:17:31.464357Z",
     "iopub.status.idle": "2023-12-06T14:17:31.478745Z",
     "shell.execute_reply": "2023-12-06T14:17:31.477545Z"
    },
    "papermill": {
     "duration": 0.051107,
     "end_time": "2023-12-06T14:17:31.481110",
     "exception": false,
     "start_time": "2023-12-06T14:17:31.430003",
     "status": "completed"
    },
    "tags": []
   },
   "outputs": [
    {
     "data": {
      "text/html": [
       "<div>\n",
       "<style scoped>\n",
       "    .dataframe tbody tr th:only-of-type {\n",
       "        vertical-align: middle;\n",
       "    }\n",
       "\n",
       "    .dataframe tbody tr th {\n",
       "        vertical-align: top;\n",
       "    }\n",
       "\n",
       "    .dataframe thead th {\n",
       "        text-align: right;\n",
       "    }\n",
       "</style>\n",
       "<table border=\"1\" class=\"dataframe\">\n",
       "  <thead>\n",
       "    <tr style=\"text-align: right;\">\n",
       "      <th></th>\n",
       "      <th>count</th>\n",
       "    </tr>\n",
       "    <tr>\n",
       "      <th>seller_city</th>\n",
       "      <th></th>\n",
       "    </tr>\n",
       "  </thead>\n",
       "  <tbody>\n",
       "    <tr>\n",
       "      <th>sao paulo</th>\n",
       "      <td>694</td>\n",
       "    </tr>\n",
       "    <tr>\n",
       "      <th>curitiba</th>\n",
       "      <td>127</td>\n",
       "    </tr>\n",
       "    <tr>\n",
       "      <th>rio de janeiro</th>\n",
       "      <td>96</td>\n",
       "    </tr>\n",
       "    <tr>\n",
       "      <th>belo horizonte</th>\n",
       "      <td>68</td>\n",
       "    </tr>\n",
       "    <tr>\n",
       "      <th>ribeirao preto</th>\n",
       "      <td>52</td>\n",
       "    </tr>\n",
       "  </tbody>\n",
       "</table>\n",
       "</div>"
      ],
      "text/plain": [
       "                count\n",
       "seller_city          \n",
       "sao paulo         694\n",
       "curitiba          127\n",
       "rio de janeiro     96\n",
       "belo horizonte     68\n",
       "ribeirao preto     52"
      ]
     },
     "execution_count": 59,
     "metadata": {},
     "output_type": "execute_result"
    }
   ],
   "source": [
    "seller_city = df_seller['seller_city'].value_counts().head(5)\n",
    "pd.DataFrame(seller_city)"
   ]
  },
  {
   "cell_type": "markdown",
   "id": "367e4419",
   "metadata": {
    "papermill": {
     "duration": 0.029453,
     "end_time": "2023-12-06T14:17:31.541141",
     "exception": false,
     "start_time": "2023-12-06T14:17:31.511688",
     "status": "completed"
    },
    "tags": []
   },
   "source": [
    "# Visualization & Explanatory Analysis"
   ]
  },
  {
   "cell_type": "markdown",
   "id": "2326bc77",
   "metadata": {
    "papermill": {
     "duration": 0.028773,
     "end_time": "2023-12-06T14:17:31.599019",
     "exception": false,
     "start_time": "2023-12-06T14:17:31.570246",
     "status": "completed"
    },
    "tags": []
   },
   "source": [
    "## Identifikasi 5 kategori produk dengan penjualan tertinggi dan 5 kategori produk dengan penjualan terendah. Selanjutnya, jelaskan bagaimana tren penjualan untuk 5 kategori teratas produk tersebut dalam beberapa tahun terakhir, apakah menunjukkan peningkatan, penurunan, atau stabil dalam jumlah penjualan?"
   ]
  },
  {
   "cell_type": "markdown",
   "id": "08cae439",
   "metadata": {
    "papermill": {
     "duration": 0.030615,
     "end_time": "2023-12-06T14:17:31.658899",
     "exception": false,
     "start_time": "2023-12-06T14:17:31.628284",
     "status": "completed"
    },
    "tags": []
   },
   "source": [
    "**5 kategori produk dengan penjualan tertinggi dan 5 kategori produk dengan penjualan terendah**"
   ]
  },
  {
   "cell_type": "code",
   "execution_count": 60,
   "id": "43d088e8",
   "metadata": {
    "execution": {
     "iopub.execute_input": "2023-12-06T14:17:31.721319Z",
     "iopub.status.busy": "2023-12-06T14:17:31.720507Z",
     "iopub.status.idle": "2023-12-06T14:17:32.350958Z",
     "shell.execute_reply": "2023-12-06T14:17:32.349970Z"
    },
    "papermill": {
     "duration": 0.665638,
     "end_time": "2023-12-06T14:17:32.353559",
     "exception": false,
     "start_time": "2023-12-06T14:17:31.687921",
     "status": "completed"
    },
    "tags": []
   },
   "outputs": [
    {
     "data": {
      "image/png": "[encoded data removed]",
      "text/plain": [
       "<Figure size 1200x600 with 2 Axes>"
      ]
     },
     "metadata": {},
     "output_type": "display_data"
    }
   ],
   "source": [
    "color1 = ['green','blue','blue','blue','blue']\n",
    "color2 = ['blue','blue','blue','blue','red']\n",
    "\n",
    "fig, axes = plt.subplots(nrows=1, ncols=2, figsize=(12, 6))\n",
    "\n",
    "# Plot pertama (kategori_head)\n",
    "axes[0].bar(kategori_head.index, kategori_head.values, color=color1)\n",
    "axes[0].set_xticks(kategori_head.index)\n",
    "axes[0].tick_params(axis='x', rotation=90)\n",
    "axes[0].set_title('5 Kategori Penjualan Tertinggi')\n",
    "\n",
    "\n",
    "\n",
    "# Plot kedua (kategori_tail)\n",
    "axes[1].bar(kategori_tail.index, kategori_tail.values,color = color2)\n",
    "axes[1].set_xticks(kategori_tail.index)\n",
    "axes[1].tick_params(axis='x', rotation=90)\n",
    "axes[1].set_title('5 Kategori Penjualan Terendah')\n",
    "\n",
    "    \n",
    "# Menampilkan plot\n",
    "plt.tight_layout()\n",
    "plt.show()"
   ]
  },
  {
   "cell_type": "markdown",
   "id": "05ba3604",
   "metadata": {
    "papermill": {
     "duration": 0.031295,
     "end_time": "2023-12-06T14:17:32.416139",
     "exception": false,
     "start_time": "2023-12-06T14:17:32.384844",
     "status": "completed"
    },
    "tags": []
   },
   "source": [
    "**Trend Penjualan Top 5 kategori** "
   ]
  },
  {
   "cell_type": "code",
   "execution_count": 61,
   "id": "00f1a6ec",
   "metadata": {
    "execution": {
     "iopub.execute_input": "2023-12-06T14:17:32.484262Z",
     "iopub.status.busy": "2023-12-06T14:17:32.483492Z",
     "iopub.status.idle": "2023-12-06T14:17:32.920683Z",
     "shell.execute_reply": "2023-12-06T14:17:32.919601Z"
    },
    "papermill": {
     "duration": 0.475175,
     "end_time": "2023-12-06T14:17:32.923580",
     "exception": false,
     "start_time": "2023-12-06T14:17:32.448405",
     "status": "completed"
    },
    "tags": []
   },
   "outputs": [
    {
     "data": {
      "image/png": "[encoded data removed]",
      "text/plain": [
       "<Figure size 900x600 with 1 Axes>"
      ]
     },
     "metadata": {},
     "output_type": "display_data"
    }
   ],
   "source": [
    "plt.figure(figsize=(9, 6))\n",
    "\n",
    "# Plot kategori 1\n",
    "sales_kategory1_trend.plot(kind='line', marker='o', color='blue', markerfacecolor='white', markersize=8, label='Bed & Bath')\n",
    "\n",
    "# Plot kategori 2\n",
    "sales_kategory2_trend.plot(kind='line', marker='o', color='red', markerfacecolor='white', markersize=8, label='Health & Beauty')\n",
    "\n",
    "# Plot kategori 3\n",
    "sales_kategory3_trend.plot(kind='line', marker='o', color='green', markerfacecolor='white', markersize=8, label='Sports & Leisure')\n",
    "\n",
    "# Plot kategori 4\n",
    "sales_kategory4_trend.plot(kind='line', marker='o', color='purple', markerfacecolor='white', markersize=8, label='Furniture & Decor')\n",
    "\n",
    "# Plot kategori 5\n",
    "sales_kategory5_trend.plot(kind='line', marker='o', color='yellow', markerfacecolor='white', markersize=8, label='Computers & Accessories')\n",
    "\n",
    "plt.title('Trend Penjualan Top 5 Kategori Produk Terlaris')\n",
    "plt.xlabel('Tahun')\n",
    "plt.ylabel('Jumlah Penjualan')\n",
    "plt.grid(True)\n",
    "plt.legend()  \n",
    "plt.show()"
   ]
  },
  {
   "cell_type": "markdown",
   "id": "d375a8fe",
   "metadata": {
    "papermill": {
     "duration": 0.033762,
     "end_time": "2023-12-06T14:17:32.989719",
     "exception": false,
     "start_time": "2023-12-06T14:17:32.955957",
     "status": "completed"
    },
    "tags": []
   },
   "source": [
    "**Conclusion**\n",
    "\n",
    "Analisis penjualan kategori produk menunjukkan perbedaan signifikan antara kategori dengan penjualan tertinggi dan terendah. Kategori dengan penjualan tinggi seperti perabotan rumah tangga, produk kesehatan & kecantikan, dan perlengkapan olahraga menunjukkan minat kuat dari pelanggan dan memiliki posisi kuat di pasar. \n",
    "\n",
    "5 Kategori teratas semakin populer di kalangan konsumen seiring berjalannya waktu. Oleh karena itu, perusahaan dapat mempertimbangkan untuk meningkatkan stok produk dalam kategori ini atau mencari cara untuk memaksimalkan penjualan, seperti dengan menjalankan promosi atau diskon khusus.\n",
    "\n",
    "Sebaliknya, kategori dengan penjualan rendah seperti seni & kerajinan, hiburan seperti CD & DVD, dan produk keamanan & layanan menunjukkan kurangnya minat konsumen. \n",
    "\n",
    "Strategi penjualan perlu ditingkatkan untuk kategori ini, termasuk melakukan kampanye pemasaran yang lebih agresif, melakukan riset pasar dan perluas variasi produk, serta meninjau kembali stok produk. Dengan strategi ini, perusahaan dapat meningkatkan daya saingnya, meningkatkan pendapatan, dan memperkuat posisi di pasar."
   ]
  },
  {
   "cell_type": "markdown",
   "id": "190dd096",
   "metadata": {
    "papermill": {
     "duration": 0.032173,
     "end_time": "2023-12-06T14:17:33.055322",
     "exception": false,
     "start_time": "2023-12-06T14:17:33.023149",
     "status": "completed"
    },
    "tags": []
   },
   "source": [
    "---"
   ]
  },
  {
   "cell_type": "markdown",
   "id": "bbd8a370",
   "metadata": {
    "papermill": {
     "duration": 0.032066,
     "end_time": "2023-12-06T14:17:33.118531",
     "exception": false,
     "start_time": "2023-12-06T14:17:33.086465",
     "status": "completed"
    },
    "tags": []
   },
   "source": [
    "## Mengidentifikasi Kategori produk mana saja yang paling tinggi tingkat pembatalan oleh pembeli"
   ]
  },
  {
   "cell_type": "markdown",
   "id": "655bb776",
   "metadata": {
    "papermill": {
     "duration": 0.034169,
     "end_time": "2023-12-06T14:17:33.187917",
     "exception": false,
     "start_time": "2023-12-06T14:17:33.153748",
     "status": "completed"
    },
    "tags": []
   },
   "source": [
    "**Perbandingan status oder Kategori**"
   ]
  },
  {
   "cell_type": "code",
   "execution_count": 62,
   "id": "b53c66ae",
   "metadata": {
    "execution": {
     "iopub.execute_input": "2023-12-06T14:17:33.257524Z",
     "iopub.status.busy": "2023-12-06T14:17:33.256588Z",
     "iopub.status.idle": "2023-12-06T14:17:33.268385Z",
     "shell.execute_reply": "2023-12-06T14:17:33.266997Z"
    },
    "papermill": {
     "duration": 0.051763,
     "end_time": "2023-12-06T14:17:33.271109",
     "exception": false,
     "start_time": "2023-12-06T14:17:33.219346",
     "status": "completed"
    },
    "tags": []
   },
   "outputs": [
    {
     "data": {
      "text/html": [
       "<div>\n",
       "<style scoped>\n",
       "    .dataframe tbody tr th:only-of-type {\n",
       "        vertical-align: middle;\n",
       "    }\n",
       "\n",
       "    .dataframe tbody tr th {\n",
       "        vertical-align: top;\n",
       "    }\n",
       "\n",
       "    .dataframe thead th {\n",
       "        text-align: right;\n",
       "    }\n",
       "</style>\n",
       "<table border=\"1\" class=\"dataframe\">\n",
       "  <thead>\n",
       "    <tr style=\"text-align: right;\">\n",
       "      <th></th>\n",
       "      <th>count</th>\n",
       "    </tr>\n",
       "    <tr>\n",
       "      <th>order_status</th>\n",
       "      <th></th>\n",
       "    </tr>\n",
       "  </thead>\n",
       "  <tbody>\n",
       "    <tr>\n",
       "      <th>delivered</th>\n",
       "      <td>110151</td>\n",
       "    </tr>\n",
       "    <tr>\n",
       "      <th>canceled</th>\n",
       "      <td>7</td>\n",
       "    </tr>\n",
       "  </tbody>\n",
       "</table>\n",
       "</div>"
      ],
      "text/plain": [
       "               count\n",
       "order_status        \n",
       "delivered     110151\n",
       "canceled           7"
      ]
     },
     "execution_count": 62,
     "metadata": {},
     "output_type": "execute_result"
    }
   ],
   "source": [
    "pd.DataFrame(kategori_count)"
   ]
  },
  {
   "cell_type": "markdown",
   "id": "48bf41cd",
   "metadata": {
    "papermill": {
     "duration": 0.031678,
     "end_time": "2023-12-06T14:17:33.334391",
     "exception": false,
     "start_time": "2023-12-06T14:17:33.302713",
     "status": "completed"
    },
    "tags": []
   },
   "source": [
    "**Kategori produk yang mengalami pembatalan**"
   ]
  },
  {
   "cell_type": "code",
   "execution_count": 63,
   "id": "537ff22b",
   "metadata": {
    "execution": {
     "iopub.execute_input": "2023-12-06T14:17:33.404794Z",
     "iopub.status.busy": "2023-12-06T14:17:33.404303Z",
     "iopub.status.idle": "2023-12-06T14:17:33.421541Z",
     "shell.execute_reply": "2023-12-06T14:17:33.420074Z"
    },
    "papermill": {
     "duration": 0.054308,
     "end_time": "2023-12-06T14:17:33.424863",
     "exception": false,
     "start_time": "2023-12-06T14:17:33.370555",
     "status": "completed"
    },
    "tags": []
   },
   "outputs": [
    {
     "data": {
      "text/html": [
       "<div>\n",
       "<style scoped>\n",
       "    .dataframe tbody tr th:only-of-type {\n",
       "        vertical-align: middle;\n",
       "    }\n",
       "\n",
       "    .dataframe tbody tr th {\n",
       "        vertical-align: top;\n",
       "    }\n",
       "\n",
       "    .dataframe thead th {\n",
       "        text-align: right;\n",
       "    }\n",
       "</style>\n",
       "<table border=\"1\" class=\"dataframe\">\n",
       "  <thead>\n",
       "    <tr style=\"text-align: right;\">\n",
       "      <th></th>\n",
       "      <th></th>\n",
       "      <th>count</th>\n",
       "    </tr>\n",
       "    <tr>\n",
       "      <th>product_category</th>\n",
       "      <th>order_status</th>\n",
       "      <th></th>\n",
       "    </tr>\n",
       "  </thead>\n",
       "  <tbody>\n",
       "    <tr>\n",
       "      <th>health_beauty</th>\n",
       "      <th>canceled</th>\n",
       "      <td>2</td>\n",
       "    </tr>\n",
       "    <tr>\n",
       "      <th>perfumery</th>\n",
       "      <th>canceled</th>\n",
       "      <td>2</td>\n",
       "    </tr>\n",
       "    <tr>\n",
       "      <th>fashion_bags_accessories</th>\n",
       "      <th>canceled</th>\n",
       "      <td>1</td>\n",
       "    </tr>\n",
       "    <tr>\n",
       "      <th>sports_leisure</th>\n",
       "      <th>canceled</th>\n",
       "      <td>1</td>\n",
       "    </tr>\n",
       "    <tr>\n",
       "      <th>toys</th>\n",
       "      <th>canceled</th>\n",
       "      <td>1</td>\n",
       "    </tr>\n",
       "  </tbody>\n",
       "</table>\n",
       "</div>"
      ],
      "text/plain": [
       "                                       count\n",
       "product_category         order_status       \n",
       "health_beauty            canceled          2\n",
       "perfumery                canceled          2\n",
       "fashion_bags_accessories canceled          1\n",
       "sports_leisure           canceled          1\n",
       "toys                     canceled          1"
      ]
     },
     "execution_count": 63,
     "metadata": {},
     "output_type": "execute_result"
    }
   ],
   "source": [
    "pd.DataFrame(kategori_batal[['product_category','order_status']].value_counts())"
   ]
  },
  {
   "cell_type": "markdown",
   "id": "97ce7f94",
   "metadata": {
    "papermill": {
     "duration": 0.033015,
     "end_time": "2023-12-06T14:17:33.492278",
     "exception": false,
     "start_time": "2023-12-06T14:17:33.459263",
     "status": "completed"
    },
    "tags": []
   },
   "source": [
    "**Conclusion**\n",
    "\n",
    "Dengan perbandingan yang signifikan antara jumlah produk yang terkirim dan yang dibatalkan, terlihat bahwa hanya sedikit, yaitu 7 produk dalam 5 kategori, yang mengalami pembatalan. Perbedaan yang mencolok ini menunjukkan bahwa mayoritas produk dalam kategori saya berhasil dikirim tanpa ada masalah yang signifikan"
   ]
  },
  {
   "cell_type": "markdown",
   "id": "29dd591b",
   "metadata": {
    "papermill": {
     "duration": 0.032288,
     "end_time": "2023-12-06T14:17:33.558978",
     "exception": false,
     "start_time": "2023-12-06T14:17:33.526690",
     "status": "completed"
    },
    "tags": []
   },
   "source": [
    "---"
   ]
  },
  {
   "cell_type": "markdown",
   "id": "42bc7a44",
   "metadata": {
    "papermill": {
     "duration": 0.032611,
     "end_time": "2023-12-06T14:17:33.624510",
     "exception": false,
     "start_time": "2023-12-06T14:17:33.591899",
     "status": "completed"
    },
    "tags": []
   },
   "source": [
    "## Mengidentifikasi Kota dengan customer yang melakukan order paling banyak"
   ]
  },
  {
   "cell_type": "code",
   "execution_count": 64,
   "id": "0fa97c4d",
   "metadata": {
    "execution": {
     "iopub.execute_input": "2023-12-06T14:17:33.692102Z",
     "iopub.status.busy": "2023-12-06T14:17:33.691360Z",
     "iopub.status.idle": "2023-12-06T14:17:33.982628Z",
     "shell.execute_reply": "2023-12-06T14:17:33.981326Z"
    },
    "papermill": {
     "duration": 0.328095,
     "end_time": "2023-12-06T14:17:33.985439",
     "exception": false,
     "start_time": "2023-12-06T14:17:33.657344",
     "status": "completed"
    },
    "tags": []
   },
   "outputs": [
    {
     "data": {
      "image/png": "[encoded data removed]",
      "text/plain": [
       "<Figure size 640x480 with 1 Axes>"
      ]
     },
     "metadata": {},
     "output_type": "display_data"
    }
   ],
   "source": [
    "plt.title('Top 5 Customer City')\n",
    "plt.bar(x = customer_city.index, height = customer_city.values, color = color1)\n",
    "plt.ylabel('Jumlah Order Customer')\n",
    "plt.xticks(rotation=90)\n",
    "plt.show()"
   ]
  },
  {
   "cell_type": "markdown",
   "id": "698f22df",
   "metadata": {
    "papermill": {
     "duration": 0.033334,
     "end_time": "2023-12-06T14:17:34.055515",
     "exception": false,
     "start_time": "2023-12-06T14:17:34.022181",
     "status": "completed"
    },
    "tags": []
   },
   "source": [
    "**Conclusion**\n",
    "\n",
    "Dalam analisis kami terhadap data pemesanan pelanggan, terdapat lima kota yang menonjol dengan jumlah pemesanan yang tinggi, yaitu São Paulo, Rio de Janeiro, Belo Horizonte, Brasília, dan Curitiba. Hal ini menunjukkan bahwa kota-kota ini memiliki kontribusi signifikan dalam jumlah pemesanan pelanggan, memberikan gambaran yang kuat tentang sebaran aktivitas pembelian yang tinggi di wilayah-wilayah ini.\n",
    "\n",
    "Dengan mengetahui kota-kota ini sebagai pusat aktivitas pemesanan yang tinggi, strategi bisnis dapat difokuskan untuk mengoptimalkan layanan dan distribusi di wilayah-wilayah ini. Penekanan pada ketersediaan produk, efisiensi pengiriman, serta peningkatan layanan pelanggan di kota-kota ini dapat menjadi langkah strategis untuk memperluas basis pelanggan dan meningkatkan performa bisnis secara keseluruhan"
   ]
  },
  {
   "cell_type": "markdown",
   "id": "31046c47",
   "metadata": {
    "papermill": {
     "duration": 0.032038,
     "end_time": "2023-12-06T14:17:34.120304",
     "exception": false,
     "start_time": "2023-12-06T14:17:34.088266",
     "status": "completed"
    },
    "tags": []
   },
   "source": [
    "---"
   ]
  },
  {
   "cell_type": "markdown",
   "id": "fa1db316",
   "metadata": {
    "papermill": {
     "duration": 0.032687,
     "end_time": "2023-12-06T14:17:34.187729",
     "exception": false,
     "start_time": "2023-12-06T14:17:34.155042",
     "status": "completed"
    },
    "tags": []
   },
   "source": [
    "## Mengidentifikasi Kota dengan jumlah seller paling banyak"
   ]
  },
  {
   "cell_type": "code",
   "execution_count": 65,
   "id": "e7ab5018",
   "metadata": {
    "execution": {
     "iopub.execute_input": "2023-12-06T14:17:34.255464Z",
     "iopub.status.busy": "2023-12-06T14:17:34.254992Z",
     "iopub.status.idle": "2023-12-06T14:17:34.538810Z",
     "shell.execute_reply": "2023-12-06T14:17:34.537070Z"
    },
    "papermill": {
     "duration": 0.321015,
     "end_time": "2023-12-06T14:17:34.541935",
     "exception": false,
     "start_time": "2023-12-06T14:17:34.220920",
     "status": "completed"
    },
    "tags": []
   },
   "outputs": [
    {
     "data": {
      "image/png": "[encoded data removed]",
      "text/plain": [
       "<Figure size 640x480 with 1 Axes>"
      ]
     },
     "metadata": {},
     "output_type": "display_data"
    }
   ],
   "source": [
    "plt.title('5 Kota Dengan Seller Terbanyak')\n",
    "plt.bar(x=seller_city.index, height = seller_city.values, color = color1)\n",
    "plt.ylabel('Jumlah Seller')\n",
    "plt.xticks(rotation=90)\n",
    "plt.show()"
   ]
  },
  {
   "cell_type": "markdown",
   "id": "d998cbd5",
   "metadata": {
    "execution": {
     "iopub.execute_input": "2023-12-06T14:06:46.634878Z",
     "iopub.status.busy": "2023-12-06T14:06:46.634229Z",
     "iopub.status.idle": "2023-12-06T14:06:46.647539Z",
     "shell.execute_reply": "2023-12-06T14:06:46.646158Z",
     "shell.execute_reply.started": "2023-12-06T14:06:46.634810Z"
    },
    "papermill": {
     "duration": 0.033862,
     "end_time": "2023-12-06T14:17:34.610442",
     "exception": false,
     "start_time": "2023-12-06T14:17:34.576580",
     "status": "completed"
    },
    "tags": []
   },
   "source": [
    "**Conclusion**\n",
    "\n",
    "\n",
    "Kehadiran penjual yang signifikan di beberapa kota menunjukkan adanya peluang bisnis yang luas. Dengan memfokuskan kerja sama pada penjual di wilayah tersebut, kita dapat meningkatkan ketersediaan produk, mengoptimalkan efisiensi pengiriman, dan memperluas jangkauan layanan ke pelanggan. Langkah-langkah ini akan berkontribusi pada penguatan pangsa pasar dan peningkatan daya saing bisnis.\n",
    "\n",
    "Melalui identifikasi kota-kota dengan kehadiran penjual yang kuat, kita dapat mengembangkan strategi ekspansi yang terarah. Kemitraan strategis dengan penjual ini akan memperkuat infrastruktur penjualan, memperkaya variasi produk, dan meningkatkan daya tarik serta efisiensi operasional bisnis kita secara keseluruhan."
   ]
  },
  {
   "cell_type": "markdown",
   "id": "feecddc7",
   "metadata": {
    "papermill": {
     "duration": 0.035283,
     "end_time": "2023-12-06T14:17:34.686341",
     "exception": false,
     "start_time": "2023-12-06T14:17:34.651058",
     "status": "completed"
    },
    "tags": []
   },
   "source": [
    "---"
   ]
  }
 ],
 "metadata": {
  "kaggle": {
   "accelerator": "none",
   "dataSources": [
    {
     "datasetId": 55151,
     "sourceId": 2669146,
     "sourceType": "datasetVersion"
    }
   ],
   "dockerImageVersionId": 30587,
   "isGpuEnabled": false,
   "isInternetEnabled": true,
   "language": "python",
   "sourceType": "notebook"
  },
  "kernelspec": {
   "display_name": "Python 3",
   "language": "python",
   "name": "python3"
  },
  "language_info": {
   "codemirror_mode": {
    "name": "ipython",
    "version": 3
   },
   "file_extension": ".py",
   "mimetype": "text/x-python",
   "name": "python",
   "nbconvert_exporter": "python",
   "pygments_lexer": "ipython3",
   "version": "3.10.12"
  },
  "nbTranslate": {
   "displayLangs": [
    "*"
   ],
   "hotkey": "alt-t",
   "langInMainMenu": true,
   "sourceLang": "en",
   "targetLang": "fr",
   "useGoogleTranslate": true
  },
  "papermill": {
   "default_parameters": {},
   "duration": 20.727186,
   "end_time": "2023-12-06T14:17:35.747013",
   "environment_variables": {},
   "exception": null,
   "input_path": "__notebook__.ipynb",
   "output_path": "__notebook__.ipynb",
   "parameters": {},
   "start_time": "2023-12-06T14:17:15.019827",
   "version": "2.4.0"
  },
  "vscode": {
   "interpreter": {
    "hash": "972b3bf27e332e87b5379f2791f6ef9dfc79c71018c370b0d7423235e20fe4d7"
   }
  }
 },
 "nbformat": 4,
 "nbformat_minor": 5
}
